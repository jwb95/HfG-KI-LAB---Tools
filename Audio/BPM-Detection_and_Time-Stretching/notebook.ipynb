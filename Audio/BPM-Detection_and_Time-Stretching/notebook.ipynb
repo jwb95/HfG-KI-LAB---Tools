{
 "cells": [
  {
   "cell_type": "code",
   "execution_count": 1,
   "metadata": {},
   "outputs": [],
   "source": [
    "from bpm_detection import get_bpm\n",
    "from pyrubberband.pyrb import time_stretch\n",
    "from scipy.io.wavfile import read, write\n",
    "from scipy.signal import resample\n",
    "import numpy as np"
   ]
  },
  {
   "cell_type": "code",
   "execution_count": 2,
   "metadata": {},
   "outputs": [],
   "source": [
    "def normalise_float32(x):\n",
    "    x = np.float32(x)\n",
    "    x = x - np.min(x)\n",
    "    m = np.max(x)\n",
    "    if m > 0:\n",
    "        x = x / m\n",
    "    x = x * 2 - 1\n",
    "    return x\n",
    "\n",
    "'''\n",
    "Converts npy-array of range [-1.0, +1.0] back to int16 (-32768 bis 32767)\n",
    "'''\n",
    "def to_int16(x):\n",
    "    return np.int16(x * 32767)\n",
    "\n",
    "def norm_audio(x):\n",
    "    return to_int16(normalise_float32(x))"
   ]
  },
  {
   "cell_type": "code",
   "execution_count": 3,
   "metadata": {},
   "outputs": [],
   "source": [
    "target_sr = 44100\n",
    "target_bpm = 140\n",
    "filename = \"/PATH/TO/MY/WAVFILE.wav\""
   ]
  },
  {
   "cell_type": "code",
   "execution_count": 5,
   "metadata": {},
   "outputs": [
    {
     "name": "stdout",
     "output_type": "stream",
     "text": [
      "resampling from  48000  -->  44100\n",
      "Completed!  Estimated Beats Per Minute: 127.01612903225806\n",
      "127.01612903225806\n"
     ]
    }
   ],
   "source": [
    "# Assure sample rate\n",
    "sr, audio = read(filename)\n",
    "audio = norm_audio(audio)\n",
    "if sr != target_sr:\n",
    "    print('resampling from ', sr, ' --> ', target_sr)\n",
    "    target_num_samples = int(round(len(audio) / sr * target_sr))\n",
    "    audio = norm_audio(resample(audio, target_num_samples))\n",
    "\n",
    "# Write audio as tmp.wav (take care, because of this action the script can't be parallelised without modification)\n",
    "write(\"tmp.wav\", target_sr, audio)\n",
    "\n",
    "# get bpm\n",
    "bpm = get_bpm(\"tmp.wav\", window=30)\n",
    "print(bpm)"
   ]
  },
  {
   "cell_type": "code",
   "execution_count": 6,
   "metadata": {},
   "outputs": [
    {
     "name": "stdout",
     "output_type": "stream",
     "text": [
      "4.0  -->  3.629032258064516  rate:  1.1022222222222222\n"
     ]
    }
   ],
   "source": [
    "# do timestretch\n",
    "sr, audio = read(\"tmp.wav\")\n",
    "dur_track = len(audio) / sr / 60 # in minutes\n",
    "num_beats = dur_track * bpm\n",
    "target_dur = num_beats / target_bpm\n",
    "rate = dur_track / target_dur\n",
    "print(dur_track, ' --> ', target_dur, ' rate: ', rate)\n",
    "audio_timestretched = time_stretch(audio, sr, rate, rbargs=None)\n",
    "\n",
    "# write stretched file\n",
    "write(\"stretched.wav\", sr, audio_timestretched)"
   ]
  },
  {
   "cell_type": "code",
   "execution_count": 7,
   "metadata": {},
   "outputs": [
    {
     "name": "stdout",
     "output_type": "stream",
     "text": [
      "Completed!  Estimated Beats Per Minute: 139.97037663986458\n",
      "139.97037663986458\n"
     ]
    }
   ],
   "source": [
    "# check back bpm\n",
    "bpm = get_bpm(\"stretched.wav\", window=30)\n",
    "print(bpm)"
   ]
  }
 ],
 "metadata": {
  "interpreter": {
   "hash": "9692bbe3875e6169aefa96d78a1470d3a28fbb88988ea84716fe84d98328ac63"
  },
  "kernelspec": {
   "display_name": "Python 3.10.4 ('tf2')",
   "language": "python",
   "name": "python3"
  },
  "language_info": {
   "codemirror_mode": {
    "name": "ipython",
    "version": 3
   },
   "file_extension": ".py",
   "mimetype": "text/x-python",
   "name": "python",
   "nbconvert_exporter": "python",
   "pygments_lexer": "ipython3",
   "version": "3.10.4"
  },
  "orig_nbformat": 4
 },
 "nbformat": 4,
 "nbformat_minor": 2
}
