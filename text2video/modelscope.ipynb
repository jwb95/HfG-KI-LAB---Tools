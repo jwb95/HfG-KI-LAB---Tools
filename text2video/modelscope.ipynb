{
  "cells": [
    {
      "cell_type": "code",
      "execution_count": 1,
      "metadata": {
        "colab": {
          "base_uri": "https://localhost:8080/"
        },
        "id": "7TmNc38bfdN3",
        "outputId": "de25a10d-68eb-4750-e6cb-5e0f402599d1"
      },
      "outputs": [
        {
          "output_type": "stream",
          "name": "stdout",
          "text": [
            "Mounted at /content/gdrive\n"
          ]
        }
      ],
      "source": [
        "from google.colab import drive\n",
        "drive.mount('/content/gdrive')"
      ]
    },
    {
      "cell_type": "code",
      "execution_count": 1,
      "metadata": {
        "id": "WGayfCvke18b"
      },
      "outputs": [],
      "source": [
        "%%capture\n",
        "!pip install modelscope==1.4.2\n",
        "!pip install open_clip_torch\n",
        "!pip install pytorch-lightning"
      ]
    },
    {
      "cell_type": "code",
      "execution_count": 2,
      "metadata": {
        "colab": {
          "base_uri": "https://localhost:8080/"
        },
        "id": "eR315qq2f6mt",
        "outputId": "875c8866-c808-4403-aa2f-db2e45f3338d"
      },
      "outputs": [
        {
          "output_type": "stream",
          "name": "stdout",
          "text": [
            "/content/gdrive/MyDrive/modelscope\n"
          ]
        }
      ],
      "source": [
        "cd /content/gdrive/MyDrive/modelscope"
      ]
    },
    {
      "cell_type": "code",
      "execution_count": 3,
      "metadata": {
        "colab": {
          "base_uri": "https://localhost:8080/",
          "height": 67,
          "referenced_widgets": [
            "4762f485581a47539aa51f059c98b142",
            "93242e1b4da74e8e8c4cfd26138de4b1",
            "5e77ef60f1da4893bde5eaf829d4f6e2",
            "7db13ad88f3e4c4ba0980a21b694ff4b",
            "1347c673dfec488cbd8c5fb435ced651",
            "2bc811e6468f401182644c3bffd0a934",
            "977c505aa3b64f5a8cb080e36319413f",
            "7a2a7b08b92046d0b727e423e0dfaf5b",
            "ad6b502b65174b4ea31388e0d7f2b074",
            "d7afb681c37a418fa184f9d8f928dc95",
            "3289b8531e204403860c2d1d1571b67c"
          ]
        },
        "id": "cfzyH5Q9fHU-",
        "outputId": "023401b1-dc07-44f0-98b0-47f15806ae53"
      },
      "outputs": [
        {
          "output_type": "display_data",
          "data": {
            "text/plain": [
              "Fetching 6 files:   0%|          | 0/6 [00:00<?, ?it/s]"
            ],
            "application/vnd.jupyter.widget-view+json": {
              "version_major": 2,
              "version_minor": 0,
              "model_id": "4762f485581a47539aa51f059c98b142"
            }
          },
          "metadata": {}
        },
        {
          "output_type": "execute_result",
          "data": {
            "text/plain": [
              "'/content/gdrive/MyDrive/modelscope/weights'"
            ],
            "application/vnd.google.colaboratory.intrinsic+json": {
              "type": "string"
            }
          },
          "metadata": {},
          "execution_count": 3
        }
      ],
      "source": [
        "# Download weights\n",
        "import pathlib\n",
        "from huggingface_hub import snapshot_download\n",
        "from modelscope.outputs import OutputKeys\n",
        "\n",
        "model_dir = pathlib.Path('weights')\n",
        "snapshot_download('damo-vilab/modelscope-damo-text-to-video-synthesis',\n",
        "                   repo_type='model', local_dir=model_dir)"
      ]
    },
    {
      "cell_type": "code",
      "execution_count": 4,
      "metadata": {
        "colab": {
          "base_uri": "https://localhost:8080/"
        },
        "id": "XNFuW5dZgsWj",
        "outputId": "e161ab81-1277-4539-d5ea-a918ecc28fa4"
      },
      "outputs": [
        {
          "output_type": "stream",
          "name": "stderr",
          "text": [
            "2023-04-16 13:55:49,726 - modelscope - INFO - PyTorch version 2.0.0+cu118 Found.\n",
            "2023-04-16 13:55:49,737 - modelscope - INFO - TensorFlow version 2.12.0 Found.\n",
            "2023-04-16 13:55:49,739 - modelscope - INFO - Loading ast index from /root/.cache/modelscope/ast_indexer\n",
            "2023-04-16 13:55:49,858 - modelscope - INFO - Loading done! Current index file version is 1.4.2, with md5 fe2ecfee8d0e1b5f9e276d73bc799abb and a total number of 842 components indexed\n",
            "2023-04-16 13:56:03,784 - modelscope - INFO - initiate model from weights\n",
            "2023-04-16 13:56:03,788 - modelscope - INFO - initiate model from location weights.\n",
            "2023-04-16 13:56:03,795 - modelscope - INFO - initialize model from weights\n",
            "2023-04-16 13:57:44,108 - modelscope - WARNING - No preprocessor field found in cfg.\n",
            "2023-04-16 13:57:44,111 - modelscope - WARNING - No val key and type key found in preprocessor domain of configuration.json file.\n",
            "2023-04-16 13:57:44,112 - modelscope - WARNING - Cannot find available config to build preprocessor at mode inference, current config: {'model_dir': 'weights'}. trying to build by task and model information.\n",
            "2023-04-16 13:57:44,116 - modelscope - WARNING - No preprocessor key ('latent-text-to-video-synthesis', 'text-to-video-synthesis') found in PREPROCESSOR_MAP, skip building preprocessor.\n"
          ]
        }
      ],
      "source": [
        "# Construct pipeline\n",
        "import pathlib\n",
        "from modelscope.pipelines import pipeline\n",
        "model_dir = pathlib.Path('weights')\n",
        "pipe = pipeline('text-to-video-synthesis', model_dir.as_posix())"
      ]
    },
    {
      "cell_type": "code",
      "execution_count": null,
      "metadata": {
        "colab": {
          "base_uri": "https://localhost:8080/"
        },
        "id": "fUYLkWdZgoz6",
        "outputId": "0e2a47cd-7a38-45a5-d642-7a0b887dbda6"
      },
      "outputs": [
        {
          "name": "stderr",
          "output_type": "stream",
          "text": [
            "2023-04-11 13:46:38,913 - modelscope - WARNING - task text-to-video-synthesis input definition is missing\n",
            "2023-04-11 13:47:51,618 - modelscope - WARNING - task text-to-video-synthesis output keys are missing\n"
          ]
        },
        {
          "name": "stdout",
          "output_type": "stream",
          "text": [
            "output_video_path: /tmp/tmpz64flgi1.mp4\n"
          ]
        }
      ],
      "source": [
        "# Test Rendering\n",
        "test_text = {'text': 'A panda eating bamboo on a rock.',}\n",
        "output_video_path = pipe(test_text,)['output_video']\n",
        "print('output_video_path:', output_video_path)"
      ]
    },
    {
      "cell_type": "code",
      "execution_count": null,
      "metadata": {
        "id": "Dj_PN9sTk93n"
      },
      "outputs": [],
      "source": [
        "!mv /tmp/tmpkupqfeh9.mp4 /content/gdrive/MyDrive/modelscope/output/"
      ]
    },
    {
      "cell_type": "code",
      "execution_count": 5,
      "metadata": {
        "id": "l0JOCdGssYiN"
      },
      "outputs": [],
      "source": [
        "drei_spinnerinnen = \"There was once a girl who was lazy and would not spin, and her mother could not persuade her to it, do what she would. At last the mother became angry and out of patience, and gave her a good beating, so that she cried out loudly. At that moment the Queen was going by; as she heard the crying, she stopped; and, going into the house, she asked the mother why she was beating her daughter, so that every one outside in the street could hear her cries. The woman was ashamed to tell of her daughter's laziness, so she said, 'I cannot stop her from spinning; she is for ever at it, and I am poor and cannot furnish her with flax enough.' Then the Queen answered, 'I like nothing better than the sound of the spinning-wheel, and always feel happy when I hear its humming; let me take your daughter with me to the castle - I have plenty of flax, she shall spin there to her heart's content.' The mother was only too glad of the offer, and the Queen took the girl with her.\""
      ]
    },
    {
      "cell_type": "code",
      "execution_count": 12,
      "metadata": {
        "id": "0vMn7QQQlZQT"
      },
      "outputs": [],
      "source": [
        "def split_text_into_prompts(txt, repeats_per_prompt=1):\n",
        "    prompts = []\n",
        "    s = 0\n",
        "    for i in range(len(txt) - 1):\n",
        "        if txt[i] == \".\":\n",
        "            if txt[i+1] == \"'\":\n",
        "                e = i + 2\n",
        "            e = i + 1\n",
        "            for j in range(repeats_per_prompt):\n",
        "                prompts.append(txt[s:e])\n",
        "            s = e + 1\n",
        "    return prompts"
      ]
    },
    {
      "cell_type": "code",
      "execution_count": null,
      "metadata": {
        "id": "QFzHOLPmtga3"
      },
      "outputs": [],
      "source": [
        "prompts = split_text_into_prompts(drei_spinnerinnen)"
      ]
    },
    {
      "cell_type": "code",
      "execution_count": null,
      "metadata": {
        "colab": {
          "base_uri": "https://localhost:8080/"
        },
        "id": "jdw6Ko8ftmwb",
        "outputId": "825cf3ca-9d71-4f32-a3a6-6304fb9589d4"
      },
      "outputs": [
        {
          "data": {
            "text/plain": [
              "['There was once a girl who was lazy and would not spin, and her mother could not persuade her to it, do what she would.',\n",
              " 'At last the mother became angry and out of patience, and gave her a good beating, so that she cried out loudly.',\n",
              " 'At that moment the Queen was going by; as she heard the crying, she stopped; and, going into the house, she asked the mother why she was beating her daughter, so that every one outside in the street could hear her cries.',\n",
              " \"The woman was ashamed to tell of her daughter's laziness, so she said, 'I cannot stop her from spinning; she is for ever at it, and I am poor and cannot furnish her with flax enough.\",\n",
              " \" Then the Queen answered, 'I like nothing better than the sound of the spinning-wheel, and always feel happy when I hear its humming; let me take your daughter with me to the castle - I have plenty of flax, she shall spin there to her heart's content.\"]"
            ]
          },
          "execution_count": 17,
          "metadata": {},
          "output_type": "execute_result"
        }
      ],
      "source": [
        "prompts"
      ]
    },
    {
      "cell_type": "code",
      "execution_count": 7,
      "metadata": {
        "id": "2fig4RyyttFD"
      },
      "outputs": [],
      "source": [
        "import os\n",
        "from shutil import move\n",
        "outpath = \"/content/gdrive/MyDrive/modelscope/output/\"\n",
        "\n",
        "def synthesise_story(prompts):\n",
        "    for i, prompt in enumerate(prompts):\n",
        "        test_text = {'text': prompt,}\n",
        "        output_video_path = pipe(test_text,)['output_video']\n",
        "        print('output_video_path:', output_video_path)\n",
        "        move(output_video_path, outpath + str(i)+'.mp4')"
      ]
    },
    {
      "cell_type": "code",
      "execution_count": 11,
      "metadata": {
        "colab": {
          "base_uri": "https://localhost:8080/",
          "height": 166
        },
        "id": "7enpcBXzvJ0j",
        "outputId": "6fd91a73-faec-4a89-cb17-fa1f3d0a05a8"
      },
      "outputs": [
        {
          "output_type": "error",
          "ename": "NameError",
          "evalue": "ignored",
          "traceback": [
            "\u001b[0;31m---------------------------------------------------------------------------\u001b[0m",
            "\u001b[0;31mNameError\u001b[0m                                 Traceback (most recent call last)",
            "\u001b[0;32m<ipython-input-11-565dae968e70>\u001b[0m in \u001b[0;36m<cell line: 1>\u001b[0;34m()\u001b[0m\n\u001b[0;32m----> 1\u001b[0;31m \u001b[0msynthesise_story\u001b[0m\u001b[0;34m(\u001b[0m\u001b[0mprompts\u001b[0m\u001b[0;34m)\u001b[0m\u001b[0;34m\u001b[0m\u001b[0;34m\u001b[0m\u001b[0m\n\u001b[0m",
            "\u001b[0;31mNameError\u001b[0m: name 'prompts' is not defined"
          ]
        }
      ],
      "source": [
        "synthesise_story(prompts)"
      ]
    },
    {
      "cell_type": "code",
      "source": [
        "%%capture\n",
        "!pip install moviepy"
      ],
      "metadata": {
        "id": "LTXXfOmgUobK"
      },
      "execution_count": 8,
      "outputs": []
    },
    {
      "cell_type": "code",
      "execution_count": 9,
      "metadata": {
        "id": "B3loNhpzw4dc"
      },
      "outputs": [],
      "source": [
        "from moviepy.editor import *\n",
        "\n",
        "def concatenate(video_clip_paths, output_path, method=\"compose\"):\n",
        "    \"\"\"Concatenates several video files into one video file\n",
        "    and save it to `output_path`. Note that extension (mp4, etc.) must be added to `output_path`\n",
        "    `method` can be either 'compose' or 'reduce':\n",
        "        `reduce`: Reduce the quality of the video to the lowest quality on the list of `video_clip_paths`.\n",
        "        `compose`: type help(concatenate_videoclips) for the info\"\"\"\n",
        "    # create VideoFileClip object for each video file\n",
        "    clips = [VideoFileClip(c) for c in video_clip_paths]\n",
        "    if method == \"reduce\":\n",
        "        # calculate minimum width & height across all clips\n",
        "        min_height = min([c.h for c in clips])\n",
        "        min_width = min([c.w for c in clips])\n",
        "        # resize the videos to the minimum\n",
        "        clips = [c.resize(newsize=(min_width, min_height)) for c in clips]\n",
        "        # concatenate the final video\n",
        "        final_clip = concatenate_videoclips(clips)\n",
        "    elif method == \"compose\":\n",
        "        # concatenate the final video with the compose method provided by moviepy\n",
        "        final_clip = concatenate_videoclips(clips, method=\"compose\")\n",
        "    # write the output video file\n",
        "    final_clip.write_videofile(output_path)"
      ]
    },
    {
      "cell_type": "code",
      "source": [
        "clips_dir = \"/content/gdrive/MyDrive/modelscope/output/\"\n",
        "concatenate([clips_dir+i for i in os.listdir(clips_dir) if i.endswith('mp4')], 'spinnerinnen.mp4')"
      ],
      "metadata": {
        "id": "-AcrU_PbUq77"
      },
      "execution_count": null,
      "outputs": []
    },
    {
      "cell_type": "code",
      "source": [
        "prompts = split_text_into_prompts(drei_spinnerinnen, repeats_per_prompt=3)\n",
        "synthesise_story(prompts)"
      ],
      "metadata": {
        "colab": {
          "base_uri": "https://localhost:8080/"
        },
        "id": "ZybXJRL-VBFf",
        "outputId": "283407c5-3d75-4f53-d443-51791eaa8848"
      },
      "execution_count": null,
      "outputs": [
        {
          "output_type": "stream",
          "name": "stderr",
          "text": [
            "2023-04-16 13:58:57,924 - modelscope - WARNING - task text-to-video-synthesis input definition is missing\n"
          ]
        }
      ]
    },
    {
      "cell_type": "code",
      "source": [],
      "metadata": {
        "id": "GFWqTpynWMso"
      },
      "execution_count": null,
      "outputs": []
    }
  ],
  "metadata": {
    "accelerator": "GPU",
    "colab": {
      "provenance": []
    },
    "gpuClass": "standard",
    "kernelspec": {
      "display_name": "Python 3",
      "name": "python3"
    },
    "language_info": {
      "name": "python"
    },
    "widgets": {
      "application/vnd.jupyter.widget-state+json": {
        "4762f485581a47539aa51f059c98b142": {
          "model_module": "@jupyter-widgets/controls",
          "model_name": "HBoxModel",
          "model_module_version": "1.5.0",
          "state": {
            "_dom_classes": [],
            "_model_module": "@jupyter-widgets/controls",
            "_model_module_version": "1.5.0",
            "_model_name": "HBoxModel",
            "_view_count": null,
            "_view_module": "@jupyter-widgets/controls",
            "_view_module_version": "1.5.0",
            "_view_name": "HBoxView",
            "box_style": "",
            "children": [
              "IPY_MODEL_93242e1b4da74e8e8c4cfd26138de4b1",
              "IPY_MODEL_5e77ef60f1da4893bde5eaf829d4f6e2",
              "IPY_MODEL_7db13ad88f3e4c4ba0980a21b694ff4b"
            ],
            "layout": "IPY_MODEL_1347c673dfec488cbd8c5fb435ced651"
          }
        },
        "93242e1b4da74e8e8c4cfd26138de4b1": {
          "model_module": "@jupyter-widgets/controls",
          "model_name": "HTMLModel",
          "model_module_version": "1.5.0",
          "state": {
            "_dom_classes": [],
            "_model_module": "@jupyter-widgets/controls",
            "_model_module_version": "1.5.0",
            "_model_name": "HTMLModel",
            "_view_count": null,
            "_view_module": "@jupyter-widgets/controls",
            "_view_module_version": "1.5.0",
            "_view_name": "HTMLView",
            "description": "",
            "description_tooltip": null,
            "layout": "IPY_MODEL_2bc811e6468f401182644c3bffd0a934",
            "placeholder": "​",
            "style": "IPY_MODEL_977c505aa3b64f5a8cb080e36319413f",
            "value": "Fetching 6 files: 100%"
          }
        },
        "5e77ef60f1da4893bde5eaf829d4f6e2": {
          "model_module": "@jupyter-widgets/controls",
          "model_name": "FloatProgressModel",
          "model_module_version": "1.5.0",
          "state": {
            "_dom_classes": [],
            "_model_module": "@jupyter-widgets/controls",
            "_model_module_version": "1.5.0",
            "_model_name": "FloatProgressModel",
            "_view_count": null,
            "_view_module": "@jupyter-widgets/controls",
            "_view_module_version": "1.5.0",
            "_view_name": "ProgressView",
            "bar_style": "success",
            "description": "",
            "description_tooltip": null,
            "layout": "IPY_MODEL_7a2a7b08b92046d0b727e423e0dfaf5b",
            "max": 6,
            "min": 0,
            "orientation": "horizontal",
            "style": "IPY_MODEL_ad6b502b65174b4ea31388e0d7f2b074",
            "value": 6
          }
        },
        "7db13ad88f3e4c4ba0980a21b694ff4b": {
          "model_module": "@jupyter-widgets/controls",
          "model_name": "HTMLModel",
          "model_module_version": "1.5.0",
          "state": {
            "_dom_classes": [],
            "_model_module": "@jupyter-widgets/controls",
            "_model_module_version": "1.5.0",
            "_model_name": "HTMLModel",
            "_view_count": null,
            "_view_module": "@jupyter-widgets/controls",
            "_view_module_version": "1.5.0",
            "_view_name": "HTMLView",
            "description": "",
            "description_tooltip": null,
            "layout": "IPY_MODEL_d7afb681c37a418fa184f9d8f928dc95",
            "placeholder": "​",
            "style": "IPY_MODEL_3289b8531e204403860c2d1d1571b67c",
            "value": " 6/6 [00:00&lt;00:00,  6.19it/s]"
          }
        },
        "1347c673dfec488cbd8c5fb435ced651": {
          "model_module": "@jupyter-widgets/base",
          "model_name": "LayoutModel",
          "model_module_version": "1.2.0",
          "state": {
            "_model_module": "@jupyter-widgets/base",
            "_model_module_version": "1.2.0",
            "_model_name": "LayoutModel",
            "_view_count": null,
            "_view_module": "@jupyter-widgets/base",
            "_view_module_version": "1.2.0",
            "_view_name": "LayoutView",
            "align_content": null,
            "align_items": null,
            "align_self": null,
            "border": null,
            "bottom": null,
            "display": null,
            "flex": null,
            "flex_flow": null,
            "grid_area": null,
            "grid_auto_columns": null,
            "grid_auto_flow": null,
            "grid_auto_rows": null,
            "grid_column": null,
            "grid_gap": null,
            "grid_row": null,
            "grid_template_areas": null,
            "grid_template_columns": null,
            "grid_template_rows": null,
            "height": null,
            "justify_content": null,
            "justify_items": null,
            "left": null,
            "margin": null,
            "max_height": null,
            "max_width": null,
            "min_height": null,
            "min_width": null,
            "object_fit": null,
            "object_position": null,
            "order": null,
            "overflow": null,
            "overflow_x": null,
            "overflow_y": null,
            "padding": null,
            "right": null,
            "top": null,
            "visibility": null,
            "width": null
          }
        },
        "2bc811e6468f401182644c3bffd0a934": {
          "model_module": "@jupyter-widgets/base",
          "model_name": "LayoutModel",
          "model_module_version": "1.2.0",
          "state": {
            "_model_module": "@jupyter-widgets/base",
            "_model_module_version": "1.2.0",
            "_model_name": "LayoutModel",
            "_view_count": null,
            "_view_module": "@jupyter-widgets/base",
            "_view_module_version": "1.2.0",
            "_view_name": "LayoutView",
            "align_content": null,
            "align_items": null,
            "align_self": null,
            "border": null,
            "bottom": null,
            "display": null,
            "flex": null,
            "flex_flow": null,
            "grid_area": null,
            "grid_auto_columns": null,
            "grid_auto_flow": null,
            "grid_auto_rows": null,
            "grid_column": null,
            "grid_gap": null,
            "grid_row": null,
            "grid_template_areas": null,
            "grid_template_columns": null,
            "grid_template_rows": null,
            "height": null,
            "justify_content": null,
            "justify_items": null,
            "left": null,
            "margin": null,
            "max_height": null,
            "max_width": null,
            "min_height": null,
            "min_width": null,
            "object_fit": null,
            "object_position": null,
            "order": null,
            "overflow": null,
            "overflow_x": null,
            "overflow_y": null,
            "padding": null,
            "right": null,
            "top": null,
            "visibility": null,
            "width": null
          }
        },
        "977c505aa3b64f5a8cb080e36319413f": {
          "model_module": "@jupyter-widgets/controls",
          "model_name": "DescriptionStyleModel",
          "model_module_version": "1.5.0",
          "state": {
            "_model_module": "@jupyter-widgets/controls",
            "_model_module_version": "1.5.0",
            "_model_name": "DescriptionStyleModel",
            "_view_count": null,
            "_view_module": "@jupyter-widgets/base",
            "_view_module_version": "1.2.0",
            "_view_name": "StyleView",
            "description_width": ""
          }
        },
        "7a2a7b08b92046d0b727e423e0dfaf5b": {
          "model_module": "@jupyter-widgets/base",
          "model_name": "LayoutModel",
          "model_module_version": "1.2.0",
          "state": {
            "_model_module": "@jupyter-widgets/base",
            "_model_module_version": "1.2.0",
            "_model_name": "LayoutModel",
            "_view_count": null,
            "_view_module": "@jupyter-widgets/base",
            "_view_module_version": "1.2.0",
            "_view_name": "LayoutView",
            "align_content": null,
            "align_items": null,
            "align_self": null,
            "border": null,
            "bottom": null,
            "display": null,
            "flex": null,
            "flex_flow": null,
            "grid_area": null,
            "grid_auto_columns": null,
            "grid_auto_flow": null,
            "grid_auto_rows": null,
            "grid_column": null,
            "grid_gap": null,
            "grid_row": null,
            "grid_template_areas": null,
            "grid_template_columns": null,
            "grid_template_rows": null,
            "height": null,
            "justify_content": null,
            "justify_items": null,
            "left": null,
            "margin": null,
            "max_height": null,
            "max_width": null,
            "min_height": null,
            "min_width": null,
            "object_fit": null,
            "object_position": null,
            "order": null,
            "overflow": null,
            "overflow_x": null,
            "overflow_y": null,
            "padding": null,
            "right": null,
            "top": null,
            "visibility": null,
            "width": null
          }
        },
        "ad6b502b65174b4ea31388e0d7f2b074": {
          "model_module": "@jupyter-widgets/controls",
          "model_name": "ProgressStyleModel",
          "model_module_version": "1.5.0",
          "state": {
            "_model_module": "@jupyter-widgets/controls",
            "_model_module_version": "1.5.0",
            "_model_name": "ProgressStyleModel",
            "_view_count": null,
            "_view_module": "@jupyter-widgets/base",
            "_view_module_version": "1.2.0",
            "_view_name": "StyleView",
            "bar_color": null,
            "description_width": ""
          }
        },
        "d7afb681c37a418fa184f9d8f928dc95": {
          "model_module": "@jupyter-widgets/base",
          "model_name": "LayoutModel",
          "model_module_version": "1.2.0",
          "state": {
            "_model_module": "@jupyter-widgets/base",
            "_model_module_version": "1.2.0",
            "_model_name": "LayoutModel",
            "_view_count": null,
            "_view_module": "@jupyter-widgets/base",
            "_view_module_version": "1.2.0",
            "_view_name": "LayoutView",
            "align_content": null,
            "align_items": null,
            "align_self": null,
            "border": null,
            "bottom": null,
            "display": null,
            "flex": null,
            "flex_flow": null,
            "grid_area": null,
            "grid_auto_columns": null,
            "grid_auto_flow": null,
            "grid_auto_rows": null,
            "grid_column": null,
            "grid_gap": null,
            "grid_row": null,
            "grid_template_areas": null,
            "grid_template_columns": null,
            "grid_template_rows": null,
            "height": null,
            "justify_content": null,
            "justify_items": null,
            "left": null,
            "margin": null,
            "max_height": null,
            "max_width": null,
            "min_height": null,
            "min_width": null,
            "object_fit": null,
            "object_position": null,
            "order": null,
            "overflow": null,
            "overflow_x": null,
            "overflow_y": null,
            "padding": null,
            "right": null,
            "top": null,
            "visibility": null,
            "width": null
          }
        },
        "3289b8531e204403860c2d1d1571b67c": {
          "model_module": "@jupyter-widgets/controls",
          "model_name": "DescriptionStyleModel",
          "model_module_version": "1.5.0",
          "state": {
            "_model_module": "@jupyter-widgets/controls",
            "_model_module_version": "1.5.0",
            "_model_name": "DescriptionStyleModel",
            "_view_count": null,
            "_view_module": "@jupyter-widgets/base",
            "_view_module_version": "1.2.0",
            "_view_name": "StyleView",
            "description_width": ""
          }
        }
      }
    }
  },
  "nbformat": 4,
  "nbformat_minor": 0
}