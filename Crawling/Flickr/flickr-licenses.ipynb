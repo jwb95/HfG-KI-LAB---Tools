{
 "cells": [
  {
   "cell_type": "code",
   "execution_count": 1,
   "metadata": {},
   "outputs": [
    {
     "name": "stdout",
     "output_type": "stream",
     "text": [
      "0 All Rights Reserved\n",
      "4 Attribution License\n",
      "6 Attribution-NoDerivs License\n",
      "3 Attribution-NonCommercial-NoDerivs License\n",
      "2 Attribution-NonCommercial License\n",
      "1 Attribution-NonCommercial-ShareAlike License\n",
      "5 Attribution-ShareAlike License\n",
      "7 No known copyright restrictions\n",
      "8 United States Government Work\n",
      "9 Public Domain Dedication (CC0)\n",
      "10 Public Domain Mark\n"
     ]
    }
   ],
   "source": [
    "import flickrapi\n",
    "\n",
    "flickr=flickrapi.FlickrAPI('[[id]]', '[[password]]', cache=True)\n",
    "\n",
    "for l in flickr.photos.licenses.getInfo().find('licenses'):\n",
    "    print(l.get(\"id\"), l.get('name'))"
   ]
  },
  {
   "cell_type": "code",
   "execution_count": null,
   "metadata": {},
   "outputs": [],
   "source": []
  }
 ],
 "metadata": {
  "kernelspec": {
   "display_name": "Python (image-dl)",
   "language": "python",
   "name": "image-dl"
  },
  "language_info": {
   "codemirror_mode": {
    "name": "ipython",
    "version": 3
   },
   "file_extension": ".py",
   "mimetype": "text/x-python",
   "name": "python",
   "nbconvert_exporter": "python",
   "pygments_lexer": "ipython3",
   "version": "3.8.5"
  }
 },
 "nbformat": 4,
 "nbformat_minor": 4
}
