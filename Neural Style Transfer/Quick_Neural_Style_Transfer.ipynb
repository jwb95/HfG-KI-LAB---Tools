{
  "nbformat": 4,
  "nbformat_minor": 0,
  "metadata": {
    "colab": {
      "name": "style-transfer-pytorch.ipynb",
      "provenance": [],
      "collapsed_sections": []
    },
    "kernelspec": {
      "name": "python3",
      "display_name": "Python 3"
    },
    "accelerator": "GPU"
  },
  "cells": [
    {
      "cell_type": "markdown",
      "metadata": {
        "id": "y6M9pfsZTBZA"
      },
      "source": [
        "# style-transfer-pytorch\n",
        "\n",
        "An implementation of neural style transfer ([A Neural Algorithm of Artistic Style](https://arxiv.org/abs/1508.06576)) in PyTorch, supporting CPUs and Nvidia GPUs. It does automatic multi-scale (coarse-to-fine) stylization to produce high-quality high resolution stylizations, even up to print resolution if the GPUs have sufficient memory.\n",
        "\n",
        "See [the GitHub repo](https://github.com/crowsonkb/style-transfer-pytorch) for more information."
      ]
    },
    {
      "cell_type": "code",
      "metadata": {
        "id": "EhKX2A6TA-wL"
      },
      "source": [
        "!nvidia-smi\n",
        "!git clone https://github.com/crowsonkb/style-transfer-pytorch\n",
        "!pip install -e ./style-transfer-pytorch"
      ],
      "execution_count": null,
      "outputs": []
    },
    {
      "cell_type": "code",
      "metadata": {
        "id": "xHN2S0O6GSKv"
      },
      "source": [
        "!curl -OL 'https://raw.githubusercontent.com/jcjohnson/neural-style/master/examples/inputs/golden_gate.jpg'\n",
        "!curl -OL 'https://raw.githubusercontent.com/jcjohnson/neural-style/master/examples/inputs/starry_night.jpg'"
      ],
      "execution_count": null,
      "outputs": []
    },
    {
      "cell_type": "code",
      "metadata": {
        "id": "hoYgdESECjYv"
      },
      "source": [
        "!style_transfer golden_gate.jpg starry_night.jpg -s 512"
      ],
      "execution_count": null,
      "outputs": []
    },
    {
      "cell_type": "code",
      "metadata": {
        "id": "_5REGQYyQR6X"
      },
      "source": [
        "import IPython\n",
        "\n",
        "IPython.display.Image('out.png')"
      ],
      "execution_count": null,
      "outputs": []
    }
  ]
}