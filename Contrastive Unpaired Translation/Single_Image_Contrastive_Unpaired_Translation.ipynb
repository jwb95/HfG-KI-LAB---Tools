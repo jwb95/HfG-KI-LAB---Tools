{
  "cells": [
    {
      "cell_type": "code",
      "execution_count": 1,
      "metadata": {
        "colab": {
          "base_uri": "https://localhost:8080/"
        },
        "id": "CUR0BURn724F",
        "outputId": "f5c8f961-204c-4311-d43e-159855f1bb56"
      },
      "outputs": [
        {
          "output_type": "stream",
          "name": "stdout",
          "text": [
            "Mounted at /content/gdrive\n"
          ]
        }
      ],
      "source": [
        "# MOUNT DRIVE\n",
        "from google.colab import drive\n",
        "drive.mount('/content/gdrive')"
      ]
    },
    {
      "cell_type": "code",
      "execution_count": 1,
      "metadata": {
        "colab": {
          "base_uri": "https://localhost:8080/"
        },
        "id": "itQKnLH384zz",
        "outputId": "1f67d30f-ff91-4688-ca53-c220d08862d1"
      },
      "outputs": [
        {
          "output_type": "stream",
          "name": "stdout",
          "text": [
            "/content/gdrive/MyDrive/contrastive-unpaired-translation-master\n"
          ]
        }
      ],
      "source": [
        "cd /content/gdrive/MyDrive/"
      ]
    },
    {
      "cell_type": "code",
      "source": [
        "!git clone https://github.com/taesungp/contrastive-unpaired-translation"
      ],
      "metadata": {
        "id": "7iH6mAfxHfQI"
      },
      "execution_count": null,
      "outputs": []
    },
    {
      "cell_type": "code",
      "execution_count": 2,
      "metadata": {
        "colab": {
          "base_uri": "https://localhost:8080/"
        },
        "id": "CF0LFZ1w2lOy",
        "outputId": "5690ff61-8934-4b92-aed3-4616041b38a2"
      },
      "outputs": [
        {
          "output_type": "stream",
          "name": "stdout",
          "text": [
            "Requirement already satisfied: visdom in /usr/local/lib/python3.7/dist-packages (0.1.8.9)\n",
            "Requirement already satisfied: requests in /usr/local/lib/python3.7/dist-packages (from visdom) (2.23.0)\n",
            "Requirement already satisfied: numpy>=1.8 in /usr/local/lib/python3.7/dist-packages (from visdom) (1.21.5)\n",
            "Requirement already satisfied: scipy in /usr/local/lib/python3.7/dist-packages (from visdom) (1.4.1)\n",
            "Requirement already satisfied: websocket-client in /usr/local/lib/python3.7/dist-packages (from visdom) (1.3.1)\n",
            "Requirement already satisfied: six in /usr/local/lib/python3.7/dist-packages (from visdom) (1.15.0)\n",
            "Requirement already satisfied: tornado in /usr/local/lib/python3.7/dist-packages (from visdom) (5.1.1)\n",
            "Requirement already satisfied: pillow in /usr/local/lib/python3.7/dist-packages (from visdom) (7.1.2)\n",
            "Requirement already satisfied: torchfile in /usr/local/lib/python3.7/dist-packages (from visdom) (0.1.0)\n",
            "Requirement already satisfied: pyzmq in /usr/local/lib/python3.7/dist-packages (from visdom) (22.3.0)\n",
            "Requirement already satisfied: jsonpatch in /usr/local/lib/python3.7/dist-packages (from visdom) (1.32)\n",
            "Requirement already satisfied: jsonpointer>=1.9 in /usr/local/lib/python3.7/dist-packages (from jsonpatch->visdom) (2.2)\n",
            "Requirement already satisfied: urllib3!=1.25.0,!=1.25.1,<1.26,>=1.21.1 in /usr/local/lib/python3.7/dist-packages (from requests->visdom) (1.24.3)\n",
            "Requirement already satisfied: idna<3,>=2.5 in /usr/local/lib/python3.7/dist-packages (from requests->visdom) (2.10)\n",
            "Requirement already satisfied: chardet<4,>=3.0.2 in /usr/local/lib/python3.7/dist-packages (from requests->visdom) (3.0.4)\n",
            "Requirement already satisfied: certifi>=2017.4.17 in /usr/local/lib/python3.7/dist-packages (from requests->visdom) (2021.10.8)\n"
          ]
        }
      ],
      "source": [
        "# Fehlende Dependencies installieren\n",
        "!pip install visdom\n",
        "!pip install dominate"
      ]
    },
    {
      "cell_type": "markdown",
      "source": [
        "Im Sub-Folder 'datasets' ist ein Ordner mit einem Namen, z.B. 'mydataset' für das Datenset anzulegen. Dieser sollte zwei weitere Ordner 'trainA' und 'trainB' beinhalten. "
      ],
      "metadata": {
        "id": "c6O6y-4lHWRU"
      }
    },
    {
      "cell_type": "code",
      "execution_count": null,
      "metadata": {
        "colab": {
          "base_uri": "https://localhost:8080/"
        },
        "id": "sP62KJMe2hQr",
        "outputId": "b9a8b74e-cfdd-4093-ee8f-f7e7e4873d3a"
      },
      "outputs": [
        {
          "output_type": "stream",
          "name": "stdout",
          "text": [
            "----------------- Options ---------------\n",
            "                 CUT_mode: CUT                           \n",
            "               batch_size: 16                            \n",
            "                    beta1: 0.0                           \n",
            "                    beta2: 0.99                          \n",
            "          checkpoints_dir: ./checkpoints                 \n",
            "           continue_train: False                         \n",
            "                crop_size: 64                            \n",
            "                 dataroot: ./datasets/vic                \t[default: placeholder]\n",
            "             dataset_mode: singleimage                   \n",
            "                direction: AtoB                          \n",
            "              display_env: main                          \n",
            "             display_freq: 400                           \n",
            "               display_id: None                          \n",
            "            display_ncols: 4                             \n",
            "             display_port: 8097                          \n",
            "           display_server: http://localhost              \n",
            "          display_winsize: 256                           \n",
            "               easy_label: experiment_name               \n",
            "                    epoch: latest                        \n",
            "              epoch_count: 1                             \n",
            "          evaluation_freq: 5000                          \n",
            "        flip_equivariance: False                         \n",
            "                 gan_mode: nonsaturating                 \n",
            "                  gpu_ids: 0                             \n",
            "                init_gain: 0.02                          \n",
            "                init_type: xavier                        \n",
            "                 input_nc: 3                             \n",
            "                  isTrain: True                          \t[default: None]\n",
            "               lambda_GAN: 1.0                           \n",
            "               lambda_NCE: 4.0                           \n",
            "                lambda_R1: 1.0                           \n",
            "          lambda_identity: 1.0                           \n",
            "                load_size: 1024                          \n",
            "                       lr: 0.002                         \n",
            "           lr_decay_iters: 50                            \n",
            "                lr_policy: linear                        \n",
            "         max_dataset_size: inf                           \n",
            "                    model: sincut                        \t[default: cut]\n",
            "                 n_epochs: 8                             \n",
            "           n_epochs_decay: 8                             \n",
            "               n_layers_D: 3                             \n",
            "                     name: vic                           \t[default: experiment_name]\n",
            "                    nce_T: 0.07                          \n",
            "                  nce_idt: True                          \n",
            "nce_includes_all_negatives_from_minibatch: True                          \n",
            "               nce_layers: 0,2,4                         \n",
            "                      ndf: 8                             \n",
            "                     netD: stylegan2                     \n",
            "                     netF: mlp_sample                    \n",
            "                  netF_nc: 256                           \n",
            "                     netG: stylegan2                     \n",
            "                      ngf: 10                            \n",
            "             no_antialias: False                         \n",
            "          no_antialias_up: False                         \n",
            "               no_dropout: True                          \n",
            "                  no_flip: False                         \n",
            "                  no_html: False                         \n",
            "                    normD: instance                      \n",
            "                    normG: instance                      \n",
            "              num_patches: 1                             \n",
            "              num_threads: 4                             \n",
            "                output_nc: 3                             \n",
            "                    phase: train                         \n",
            "                pool_size: 0                             \n",
            "               preprocess: zoom_and_patch                \n",
            "          pretrained_name: None                          \n",
            "               print_freq: 100                           \n",
            "         random_scale_max: 3.0                           \n",
            "             save_by_iter: False                         \n",
            "          save_epoch_freq: 1                             \n",
            "         save_latest_freq: 20000                         \n",
            "           serial_batches: False                         \n",
            "stylegan2_G_num_downsampling: 1                             \n",
            "                   suffix:                               \n",
            "         update_html_freq: 1000                          \n",
            "                  verbose: False                         \n",
            "----------------- End -------------------\n",
            "Image sizes (1293, 5186) and (2208, 3528)\n",
            "dataset [SingleImageDataset] was created\n",
            "model [SinCUTModel] was created\n",
            "The number of training images = 100000\n",
            "Setting up a new session...\n",
            "Exception in user code:\n",
            "------------------------------------------------------------\n",
            "Traceback (most recent call last):\n",
            "  File \"/usr/local/lib/python3.7/dist-packages/urllib3/connection.py\", line 159, in _new_conn\n",
            "    (self._dns_host, self.port), self.timeout, **extra_kw)\n",
            "  File \"/usr/local/lib/python3.7/dist-packages/urllib3/util/connection.py\", line 80, in create_connection\n",
            "    raise err\n",
            "  File \"/usr/local/lib/python3.7/dist-packages/urllib3/util/connection.py\", line 70, in create_connection\n",
            "    sock.connect(sa)\n",
            "ConnectionRefusedError: [Errno 111] Connection refused\n",
            "\n",
            "During handling of the above exception, another exception occurred:\n",
            "\n",
            "Traceback (most recent call last):\n",
            "  File \"/usr/local/lib/python3.7/dist-packages/urllib3/connectionpool.py\", line 600, in urlopen\n",
            "    chunked=chunked)\n",
            "  File \"/usr/local/lib/python3.7/dist-packages/urllib3/connectionpool.py\", line 354, in _make_request\n",
            "    conn.request(method, url, **httplib_request_kw)\n",
            "  File \"/usr/lib/python3.7/http/client.py\", line 1281, in request\n",
            "    self._send_request(method, url, body, headers, encode_chunked)\n",
            "  File \"/usr/lib/python3.7/http/client.py\", line 1327, in _send_request\n",
            "    self.endheaders(body, encode_chunked=encode_chunked)\n",
            "  File \"/usr/lib/python3.7/http/client.py\", line 1276, in endheaders\n",
            "    self._send_output(message_body, encode_chunked=encode_chunked)\n",
            "  File \"/usr/lib/python3.7/http/client.py\", line 1036, in _send_output\n",
            "    self.send(msg)\n",
            "  File \"/usr/lib/python3.7/http/client.py\", line 976, in send\n",
            "    self.connect()\n",
            "  File \"/usr/local/lib/python3.7/dist-packages/urllib3/connection.py\", line 181, in connect\n",
            "    conn = self._new_conn()\n",
            "  File \"/usr/local/lib/python3.7/dist-packages/urllib3/connection.py\", line 168, in _new_conn\n",
            "    self, \"Failed to establish a new connection: %s\" % e)\n",
            "urllib3.exceptions.NewConnectionError: <urllib3.connection.HTTPConnection object at 0x7f440652cd50>: Failed to establish a new connection: [Errno 111] Connection refused\n",
            "\n",
            "During handling of the above exception, another exception occurred:\n",
            "\n",
            "Traceback (most recent call last):\n",
            "  File \"/usr/local/lib/python3.7/dist-packages/requests/adapters.py\", line 449, in send\n",
            "    timeout=timeout\n",
            "  File \"/usr/local/lib/python3.7/dist-packages/urllib3/connectionpool.py\", line 638, in urlopen\n",
            "    _stacktrace=sys.exc_info()[2])\n",
            "  File \"/usr/local/lib/python3.7/dist-packages/urllib3/util/retry.py\", line 399, in increment\n",
            "    raise MaxRetryError(_pool, url, error or ResponseError(cause))\n",
            "urllib3.exceptions.MaxRetryError: HTTPConnectionPool(host='localhost', port=8097): Max retries exceeded with url: /env/main (Caused by NewConnectionError('<urllib3.connection.HTTPConnection object at 0x7f440652cd50>: Failed to establish a new connection: [Errno 111] Connection refused'))\n",
            "\n",
            "During handling of the above exception, another exception occurred:\n",
            "\n",
            "Traceback (most recent call last):\n",
            "  File \"/usr/local/lib/python3.7/dist-packages/visdom/__init__.py\", line 711, in _send\n",
            "    data=json.dumps(msg),\n",
            "  File \"/usr/local/lib/python3.7/dist-packages/visdom/__init__.py\", line 677, in _handle_post\n",
            "    r = self.session.post(url, data=data)\n",
            "  File \"/usr/local/lib/python3.7/dist-packages/requests/sessions.py\", line 578, in post\n",
            "    return self.request('POST', url, data=data, json=json, **kwargs)\n",
            "  File \"/usr/local/lib/python3.7/dist-packages/requests/sessions.py\", line 530, in request\n",
            "    resp = self.send(prep, **send_kwargs)\n",
            "  File \"/usr/local/lib/python3.7/dist-packages/requests/sessions.py\", line 643, in send\n",
            "    r = adapter.send(request, **kwargs)\n",
            "  File \"/usr/local/lib/python3.7/dist-packages/requests/adapters.py\", line 516, in send\n",
            "    raise ConnectionError(e, request=request)\n",
            "requests.exceptions.ConnectionError: HTTPConnectionPool(host='localhost', port=8097): Max retries exceeded with url: /env/main (Caused by NewConnectionError('<urllib3.connection.HTTPConnection object at 0x7f440652cd50>: Failed to establish a new connection: [Errno 111] Connection refused'))\n",
            "[Errno 99] Cannot assign requested address\n",
            "on_close() takes 1 positional argument but 3 were given\n",
            "[Errno 99] Cannot assign requested address\n",
            "on_close() takes 1 positional argument but 3 were given\n",
            "[Errno 99] Cannot assign requested address\n",
            "on_close() takes 1 positional argument but 3 were given\n",
            "Visdom python client failed to establish socket to get messages from the server. This feature is optional and can be disabled by initializing Visdom with `use_incoming_socket=False`, which will prevent waiting for this request to timeout.\n",
            "\n",
            "\n",
            "Could not connect to Visdom server. \n",
            " Trying to start a server....\n",
            "Command: /usr/bin/python3 -m visdom.server -p 8097 &>/dev/null &\n",
            "create web directory ./checkpoints/vic/web...\n",
            "[Errno 99] Cannot assign requested address\n",
            "on_close() takes 1 positional argument but 3 were given\n",
            "/content/gdrive/MyDrive/contrastive-unpaired-translation-master/models/networks.py:569: UserWarning: To copy construct from a tensor, it is recommended to use sourceTensor.clone().detach() or sourceTensor.clone().detach().requires_grad_(True), rather than torch.tensor(sourceTensor).\n",
            "  patch_id = torch.tensor(patch_id, dtype=torch.long, device=feat.device)\n",
            "---------- Networks initialized -------------\n",
            "[Network G] Total number of parameters : 3.068 M\n",
            "[Network F] Total number of parameters : 0.281 M\n",
            "[Network D] Total number of parameters : 8.658 M\n",
            "-----------------------------------------------\n",
            "(epoch: 1, iters: 400, time: 0.091, data: 3.211) G_GAN: 2.801 D_real: 0.326 D_fake: 1.138 G: 11.334 NCE: 9.005 NCE_Y: 7.710 D_R1: 0.001 idt: 0.175 \n",
            "(epoch: 1, iters: 800, time: 0.082, data: 2.381) G_GAN: 1.274 D_real: 0.786 D_fake: 0.542 G: 8.904 NCE: 8.168 NCE_Y: 6.827 D_R1: 0.014 idt: 0.133 \n",
            "(epoch: 1, iters: 1200, time: 0.073, data: 2.379) G_GAN: 0.992 D_real: 1.301 D_fake: 0.200 G: 10.741 NCE: 8.472 NCE_Y: 10.650 D_R1: 0.003 idt: 0.188 \n",
            "(epoch: 1, iters: 1600, time: 0.066, data: 2.154) G_GAN: 2.656 D_real: 0.624 D_fake: 0.930 G: 10.875 NCE: 8.421 NCE_Y: 7.784 D_R1: 0.004 idt: 0.116 \n",
            "(epoch: 1, iters: 2000, time: 0.060, data: 2.393) G_GAN: 1.383 D_real: 0.597 D_fake: 0.868 G: 8.651 NCE: 8.172 NCE_Y: 6.061 D_R1: 0.013 idt: 0.151 \n",
            "(epoch: 1, iters: 2400, time: 0.054, data: 2.232) G_GAN: 0.801 D_real: 0.604 D_fake: 0.861 G: 8.313 NCE: 8.240 NCE_Y: 6.569 D_R1: 0.006 idt: 0.107 \n",
            "(epoch: 1, iters: 2800, time: 0.049, data: 2.279) G_GAN: 1.223 D_real: 0.584 D_fake: 0.560 G: 8.596 NCE: 8.425 NCE_Y: 6.090 D_R1: 0.017 idt: 0.116 \n",
            "(epoch: 1, iters: 3200, time: 0.045, data: 2.524) G_GAN: 1.342 D_real: 0.817 D_fake: 0.405 G: 10.498 NCE: 8.480 NCE_Y: 9.540 D_R1: 0.008 idt: 0.146 \n",
            "(epoch: 1, iters: 3600, time: 0.041, data: 2.435) G_GAN: 1.027 D_real: 0.556 D_fake: 0.467 G: 8.566 NCE: 8.463 NCE_Y: 6.415 D_R1: 0.018 idt: 0.100 \n",
            "(epoch: 1, iters: 4000, time: 0.037, data: 2.235) G_GAN: 0.908 D_real: 0.766 D_fake: 0.529 G: 9.022 NCE: 8.480 NCE_Y: 7.528 D_R1: 0.003 idt: 0.109 \n",
            "(epoch: 1, iters: 4400, time: 0.034, data: 2.474) G_GAN: 1.163 D_real: 0.512 D_fake: 0.867 G: 9.006 NCE: 8.182 NCE_Y: 7.232 D_R1: 0.009 idt: 0.136 \n",
            "(epoch: 1, iters: 4800, time: 0.032, data: 2.227) G_GAN: 1.369 D_real: 0.444 D_fake: 0.319 G: 9.237 NCE: 8.689 NCE_Y: 6.877 D_R1: 0.043 idt: 0.086 \n",
            "(epoch: 1, iters: 5200, time: 0.029, data: 2.274) G_GAN: 1.210 D_real: 0.480 D_fake: 0.543 G: 9.308 NCE: 8.065 NCE_Y: 7.946 D_R1: 0.018 idt: 0.094 \n",
            "(epoch: 1, iters: 5600, time: 0.027, data: 2.307) G_GAN: 2.665 D_real: 1.170 D_fake: 0.298 G: 10.108 NCE: 8.257 NCE_Y: 6.357 D_R1: 0.009 idt: 0.136 \n",
            "(epoch: 1, iters: 6000, time: 0.025, data: 2.342) G_GAN: 1.431 D_real: 0.470 D_fake: 0.353 G: 8.278 NCE: 8.216 NCE_Y: 5.318 D_R1: 0.020 idt: 0.081 \n",
            "(epoch: 1, iters: 6400, time: 0.024, data: 2.189) G_GAN: 1.249 D_real: 0.564 D_fake: 0.651 G: 9.352 NCE: 9.109 NCE_Y: 6.919 D_R1: 0.034 idt: 0.089 \n",
            "(epoch: 1, iters: 6800, time: 0.022, data: 2.233) G_GAN: 0.884 D_real: 0.746 D_fake: 0.426 G: 9.302 NCE: 10.659 NCE_Y: 5.978 D_R1: 0.018 idt: 0.099 \n",
            "(epoch: 1, iters: 7200, time: 0.021, data: 2.134) G_GAN: 0.970 D_real: 0.570 D_fake: 0.577 G: 8.227 NCE: 8.308 NCE_Y: 6.049 D_R1: 0.013 idt: 0.078 \n",
            "(epoch: 1, iters: 7600, time: 0.020, data: 2.413) G_GAN: 1.241 D_real: 0.393 D_fake: 0.518 G: 8.207 NCE: 8.560 NCE_Y: 5.213 D_R1: 0.022 idt: 0.079 \n",
            "(epoch: 1, iters: 8000, time: 0.019, data: 2.322) G_GAN: 0.789 D_real: 0.833 D_fake: 0.548 G: 8.366 NCE: 7.745 NCE_Y: 7.259 D_R1: 0.017 idt: 0.075 \n",
            "(epoch: 1, iters: 8400, time: 0.018, data: 2.374) G_GAN: 0.866 D_real: 0.813 D_fake: 0.463 G: 8.627 NCE: 8.649 NCE_Y: 6.726 D_R1: 0.009 idt: 0.074 \n",
            "(epoch: 1, iters: 8800, time: 0.017, data: 2.229) G_GAN: 0.959 D_real: 0.626 D_fake: 0.543 G: 7.719 NCE: 8.296 NCE_Y: 5.084 D_R1: 0.014 idt: 0.070 \n",
            "(epoch: 1, iters: 9200, time: 0.017, data: 2.372) G_GAN: 1.454 D_real: 0.351 D_fake: 0.656 G: 8.215 NCE: 8.140 NCE_Y: 5.231 D_R1: 0.021 idt: 0.076 \n",
            "(epoch: 1, iters: 9600, time: 0.016, data: 2.100) G_GAN: 1.084 D_real: 0.639 D_fake: 0.534 G: 8.348 NCE: 8.202 NCE_Y: 6.185 D_R1: 0.024 idt: 0.071 \n",
            "(epoch: 1, iters: 10000, time: 0.015, data: 2.299) G_GAN: 1.048 D_real: 0.650 D_fake: 0.461 G: 8.222 NCE: 8.115 NCE_Y: 6.094 D_R1: 0.008 idt: 0.070 \n",
            "(epoch: 1, iters: 10400, time: 0.015, data: 2.393) G_GAN: 0.923 D_real: 0.881 D_fake: 0.303 G: 8.179 NCE: 8.027 NCE_Y: 6.373 D_R1: 0.021 idt: 0.056 \n",
            "(epoch: 1, iters: 10800, time: 0.015, data: 2.126) G_GAN: 1.024 D_real: 0.560 D_fake: 0.477 G: 7.374 NCE: 8.085 NCE_Y: 4.511 D_R1: 0.028 idt: 0.052 \n",
            "(epoch: 1, iters: 11200, time: 0.014, data: 2.322) G_GAN: 1.650 D_real: 0.419 D_fake: 0.486 G: 8.913 NCE: 8.222 NCE_Y: 6.181 D_R1: 0.013 idt: 0.061 \n",
            "(epoch: 1, iters: 11600, time: 0.014, data: 2.455) G_GAN: 1.360 D_real: 0.521 D_fake: 0.441 G: 8.644 NCE: 8.424 NCE_Y: 5.993 D_R1: 0.027 idt: 0.076 \n",
            "(epoch: 1, iters: 12000, time: 0.014, data: 2.150) G_GAN: 1.058 D_real: 0.621 D_fake: 0.576 G: 8.434 NCE: 8.330 NCE_Y: 6.241 D_R1: 0.031 idt: 0.090 \n",
            "(epoch: 1, iters: 12400, time: 0.013, data: 2.249) G_GAN: 0.851 D_real: 0.723 D_fake: 0.474 G: 7.998 NCE: 8.131 NCE_Y: 6.016 D_R1: 0.024 idt: 0.073 \n",
            "(epoch: 1, iters: 12800, time: 0.013, data: 2.469) G_GAN: 1.113 D_real: 0.562 D_fake: 0.510 G: 7.801 NCE: 7.889 NCE_Y: 5.375 D_R1: 0.022 idt: 0.056 \n",
            "(epoch: 1, iters: 13200, time: 0.013, data: 2.504) G_GAN: 1.166 D_real: 0.628 D_fake: 0.569 G: 8.114 NCE: 8.056 NCE_Y: 5.743 D_R1: 0.017 idt: 0.048 \n",
            "(epoch: 1, iters: 13600, time: 0.013, data: 2.367) G_GAN: 1.243 D_real: 0.451 D_fake: 0.652 G: 7.566 NCE: 7.796 NCE_Y: 4.726 D_R1: 0.019 idt: 0.063 \n",
            "(epoch: 1, iters: 14000, time: 0.013, data: 2.223) G_GAN: 1.115 D_real: 0.354 D_fake: 0.767 G: 7.457 NCE: 7.586 NCE_Y: 4.973 D_R1: 0.015 idt: 0.063 \n",
            "(epoch: 1, iters: 14400, time: 0.013, data: 2.396) G_GAN: 0.862 D_real: 0.790 D_fake: 0.428 G: 7.340 NCE: 7.577 NCE_Y: 5.267 D_R1: 0.013 idt: 0.056 \n",
            "(epoch: 1, iters: 14800, time: 0.012, data: 2.440) G_GAN: 1.112 D_real: 0.489 D_fake: 0.747 G: 8.788 NCE: 8.920 NCE_Y: 6.285 D_R1: 0.012 idt: 0.073 \n",
            "(epoch: 1, iters: 15200, time: 0.012, data: 2.290) G_GAN: 0.908 D_real: 0.709 D_fake: 0.574 G: 7.314 NCE: 7.412 NCE_Y: 5.296 D_R1: 0.011 idt: 0.052 \n",
            "(epoch: 1, iters: 15600, time: 0.012, data: 2.388) G_GAN: 1.022 D_real: 0.596 D_fake: 0.608 G: 7.313 NCE: 7.796 NCE_Y: 4.675 D_R1: 0.015 idt: 0.055 \n",
            "(epoch: 1, iters: 16000, time: 0.012, data: 2.252) G_GAN: 1.121 D_real: 0.456 D_fake: 0.541 G: 7.139 NCE: 7.502 NCE_Y: 4.416 D_R1: 0.020 idt: 0.059 \n",
            "(epoch: 1, iters: 16400, time: 0.012, data: 2.377) G_GAN: 0.963 D_real: 0.863 D_fake: 0.417 G: 7.523 NCE: 8.775 NCE_Y: 4.204 D_R1: 0.047 idt: 0.071 \n",
            "(epoch: 1, iters: 16800, time: 0.012, data: 2.416) G_GAN: 1.218 D_real: 0.591 D_fake: 0.438 G: 6.955 NCE: 7.545 NCE_Y: 3.814 D_R1: 0.027 idt: 0.058 \n",
            "(epoch: 1, iters: 17200, time: 0.012, data: 2.260) G_GAN: 1.233 D_real: 0.818 D_fake: 0.471 G: 8.485 NCE: 8.298 NCE_Y: 6.036 D_R1: 0.016 idt: 0.085 \n",
            "(epoch: 1, iters: 17600, time: 0.012, data: 2.101) G_GAN: 1.245 D_real: 0.689 D_fake: 0.708 G: 8.292 NCE: 8.194 NCE_Y: 5.705 D_R1: 0.021 idt: 0.098 \n",
            "(epoch: 1, iters: 18000, time: 0.012, data: 2.341) G_GAN: 1.334 D_real: 0.653 D_fake: 0.475 G: 7.501 NCE: 7.955 NCE_Y: 4.234 D_R1: 0.023 idt: 0.073 \n",
            "(epoch: 1, iters: 18400, time: 0.012, data: 2.293) G_GAN: 1.290 D_real: 0.493 D_fake: 0.530 G: 7.798 NCE: 7.338 NCE_Y: 5.531 D_R1: 0.024 idt: 0.074 \n",
            "(epoch: 1, iters: 18800, time: 0.012, data: 2.337) G_GAN: 1.184 D_real: 0.641 D_fake: 0.374 G: 6.948 NCE: 7.251 NCE_Y: 4.170 D_R1: 0.031 idt: 0.053 \n",
            "(epoch: 1, iters: 19200, time: 0.012, data: 2.243) G_GAN: 0.977 D_real: 0.785 D_fake: 0.322 G: 7.954 NCE: 8.243 NCE_Y: 5.581 D_R1: 0.020 idt: 0.065 \n",
            "(epoch: 1, iters: 19600, time: 0.012, data: 2.291) G_GAN: 1.320 D_real: 0.466 D_fake: 0.605 G: 7.179 NCE: 7.571 NCE_Y: 4.049 D_R1: 0.024 idt: 0.049 \n",
            "(epoch: 1, iters: 20000, time: 0.012, data: 2.242) G_GAN: 1.403 D_real: 0.350 D_fake: 0.727 G: 7.618 NCE: 7.959 NCE_Y: 4.371 D_R1: 0.024 idt: 0.051 \n",
            "saving the latest model (epoch 1, total_iters 20000)\n",
            "vic\n",
            "(epoch: 1, iters: 20400, time: 0.012, data: 2.375) G_GAN: 0.981 D_real: 0.536 D_fake: 0.622 G: 6.710 NCE: 7.015 NCE_Y: 4.312 D_R1: 0.022 idt: 0.065 \n",
            "(epoch: 1, iters: 20800, time: 0.012, data: 2.311) G_GAN: 1.000 D_real: 0.683 D_fake: 0.560 G: 7.284 NCE: 7.264 NCE_Y: 5.184 D_R1: 0.015 idt: 0.060 \n",
            "(epoch: 1, iters: 21200, time: 0.012, data: 2.439) G_GAN: 1.084 D_real: 0.668 D_fake: 0.587 G: 7.210 NCE: 7.515 NCE_Y: 4.625 D_R1: 0.022 idt: 0.056 \n",
            "(epoch: 1, iters: 21600, time: 0.012, data: 2.251) G_GAN: 1.096 D_real: 0.606 D_fake: 0.581 G: 7.583 NCE: 7.677 NCE_Y: 5.197 D_R1: 0.021 idt: 0.050 \n",
            "(epoch: 1, iters: 22000, time: 0.012, data: 2.341) G_GAN: 1.154 D_real: 0.611 D_fake: 0.490 G: 7.039 NCE: 7.178 NCE_Y: 4.492 D_R1: 0.018 idt: 0.050 \n",
            "(epoch: 1, iters: 22400, time: 0.012, data: 3.421) G_GAN: 1.042 D_real: 0.586 D_fake: 0.497 G: 7.037 NCE: 7.978 NCE_Y: 3.893 D_R1: 0.024 idt: 0.060 \n",
            "(epoch: 1, iters: 22800, time: 0.012, data: 2.187) G_GAN: 1.182 D_real: 0.434 D_fake: 0.701 G: 7.121 NCE: 7.428 NCE_Y: 4.276 D_R1: 0.019 idt: 0.087 \n",
            "(epoch: 1, iters: 23200, time: 0.012, data: 3.614) G_GAN: 1.019 D_real: 0.741 D_fake: 0.443 G: 7.122 NCE: 7.806 NCE_Y: 4.256 D_R1: 0.021 idt: 0.072 \n"
          ]
        }
      ],
      "source": [
        "# Training starten. Dauert einige Stunden und ist ohne Colab Pro Account nicht zu machen.\n",
        "# Hat man keinen kann man auf unsere lokale Hardware zurückgreifen.\n",
        "!python train.py --model sincut --name mydataset --dataroot ./datasets/mydataset"
      ]
    },
    {
      "cell_type": "code",
      "execution_count": 5,
      "metadata": {
        "colab": {
          "base_uri": "https://localhost:8080/"
        },
        "id": "ss1CQUHvFdjq",
        "outputId": "0bcad008-0d4c-4b45-802b-7d9f35b2f0df"
      },
      "outputs": [
        {
          "output_type": "stream",
          "name": "stdout",
          "text": [
            "----------------- Options ---------------\n",
            "                 CUT_mode: CUT                           \n",
            "               batch_size: 1                             \n",
            "                    beta1: 0.0                           \n",
            "                    beta2: 0.99                          \n",
            "          checkpoints_dir: ./checkpoints                 \n",
            "                crop_size: 64                            \n",
            "                 dataroot: ./datasets/forest             \t[default: placeholder]\n",
            "             dataset_mode: singleimage                   \n",
            "                direction: AtoB                          \n",
            "          display_winsize: 256                           \n",
            "               easy_label: experiment_name               \n",
            "                    epoch: latest                        \n",
            "                     eval: False                         \n",
            "        flip_equivariance: False                         \n",
            "                 gan_mode: nonsaturating                 \n",
            "                  gpu_ids: 0                             \n",
            "                init_gain: 0.02                          \n",
            "                init_type: xavier                        \n",
            "                 input_nc: 3                             \n",
            "                  isTrain: False                         \t[default: None]\n",
            "               lambda_GAN: 1.0                           \n",
            "               lambda_NCE: 4.0                           \n",
            "                lambda_R1: 1.0                           \n",
            "          lambda_identity: 1.0                           \n",
            "                load_size: 1024                          \n",
            "                       lr: 0.002                         \n",
            "         max_dataset_size: inf                           \n",
            "                    model: sincut                        \t[default: cut]\n",
            "               n_layers_D: 3                             \n",
            "                     name: forest                        \t[default: experiment_name]\n",
            "                    nce_T: 0.07                          \n",
            "                  nce_idt: True                          \n",
            "nce_includes_all_negatives_from_minibatch: True                          \n",
            "               nce_layers: 0,2,4                         \n",
            "                      ndf: 8                             \n",
            "                     netD: stylegan2                     \n",
            "                     netF: mlp_sample                    \n",
            "                  netF_nc: 256                           \n",
            "                     netG: stylegan2                     \n",
            "                      ngf: 10                            \n",
            "             no_antialias: False                         \n",
            "          no_antialias_up: False                         \n",
            "               no_dropout: True                          \n",
            "                  no_flip: False                         \n",
            "                    normD: instance                      \n",
            "                    normG: instance                      \n",
            "              num_patches: 1                             \n",
            "                 num_test: 1                             \n",
            "              num_threads: 4                             \n",
            "                output_nc: 3                             \n",
            "                    phase: test                          \n",
            "                pool_size: 0                             \n",
            "               preprocess: none                          \n",
            "         random_scale_max: 3.0                           \n",
            "              results_dir: ./results/                    \n",
            "           serial_batches: False                         \n",
            "stylegan2_G_num_downsampling: 1                             \n",
            "                   suffix:                               \n",
            "                  verbose: False                         \n",
            "----------------- End -------------------\n",
            "Image sizes (1280, 960) and (1232, 816)\n",
            "dataset [SingleImageDataset] was created\n",
            "Image sizes (1280, 960) and (1232, 816)\n",
            "dataset [SingleImageDataset] was created\n",
            "model [SinCUTModel] was created\n",
            "creating web directory ./results/forest/test_latest\n",
            "loading the model from ./checkpoints/forest/latest_net_G.pth\n",
            "---------- Networks initialized -------------\n",
            "[Network G] Total number of parameters : 3.068 M\n",
            "-----------------------------------------------\n",
            "processing (0000)-th image... ['./datasets/forest/trainA/a.jpg']\n"
          ]
        }
      ],
      "source": [
        "# Ergebnis rendern\n",
        "!python test.py --model sincut --name mydataset --dataroot ./datasets/mydataset"
      ]
    }
  ],
  "metadata": {
    "accelerator": "GPU",
    "colab": {
      "collapsed_sections": [],
      "name": "Single-Image-Contrastive-Unpaired-Translation.ipynb",
      "provenance": []
    },
    "interpreter": {
      "hash": "d5d33e84a6a4078add376f3ac5dbaee713d20859ed2bc55287af4b7909b08c40"
    },
    "kernelspec": {
      "display_name": "Python 3.7.0 ('tf2')",
      "language": "python",
      "name": "python3"
    },
    "language_info": {
      "codemirror_mode": {
        "name": "ipython",
        "version": 3
      },
      "file_extension": ".py",
      "mimetype": "text/x-python",
      "name": "python",
      "nbconvert_exporter": "python",
      "pygments_lexer": "ipython3",
      "version": "3.7.11"
    }
  },
  "nbformat": 4,
  "nbformat_minor": 0
}