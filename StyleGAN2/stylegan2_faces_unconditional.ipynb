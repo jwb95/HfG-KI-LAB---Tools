{
  "nbformat": 4,
  "nbformat_minor": 0,
  "metadata": {
    "colab": {
      "name": "stylegan2_faces_unconditional.ipynb",
      "provenance": [],
      "collapsed_sections": []
    },
    "kernelspec": {
      "name": "python3",
      "display_name": "Python 3"
    },
    "language_info": {
      "name": "python"
    },
    "accelerator": "GPU"
  },
  "cells": [
    {
      "cell_type": "code",
      "source": [
        "# Google Drive können wir folgendermaßen mounten:\n",
        "from google.colab import drive\n",
        "drive.mount('/content/gdrive')"
      ],
      "metadata": {
        "colab": {
          "base_uri": "https://localhost:8080/"
        },
        "id": "5LCBCWV7JWuN",
        "outputId": "0367ff09-5807-4256-ea5e-efda98e6f19f"
      },
      "execution_count": null,
      "outputs": [
        {
          "output_type": "stream",
          "name": "stdout",
          "text": [
            "Mounted at /content/gdrive\n"
          ]
        }
      ]
    },
    {
      "cell_type": "code",
      "source": [
        "!pip install opensimplex"
      ],
      "metadata": {
        "id": "RLdVsS03gfmw",
        "colab": {
          "base_uri": "https://localhost:8080/"
        },
        "outputId": "fe48bbc9-ced9-45b2-a721-9ed3373aeeeb"
      },
      "execution_count": 1,
      "outputs": [
        {
          "output_type": "stream",
          "name": "stdout",
          "text": [
            "Collecting opensimplex\n",
            "  Downloading opensimplex-0.4.2-py3-none-any.whl (17 kB)\n",
            "Requirement already satisfied: numpy>=1.20 in /usr/local/lib/python3.7/dist-packages (from opensimplex) (1.21.5)\n",
            "Installing collected packages: opensimplex\n",
            "Successfully installed opensimplex-0.4.2\n"
          ]
        }
      ]
    },
    {
      "cell_type": "code",
      "source": [
        "%cd /content/\n",
        "!git clone https://github.com/pbaylies/stylegan2-ada\n",
        "%cd /content/stylegan2-ada\n",
        "!mkdir out"
      ],
      "metadata": {
        "colab": {
          "base_uri": "https://localhost:8080/"
        },
        "id": "U9OyW94ogkfl",
        "outputId": "9cffb38a-b427-4c73-b005-1fd164940ec9"
      },
      "execution_count": 2,
      "outputs": [
        {
          "output_type": "stream",
          "name": "stdout",
          "text": [
            "/content\n",
            "Cloning into 'stylegan2-ada'...\n",
            "remote: Enumerating objects: 361, done.\u001b[K\n",
            "remote: Total 361 (delta 0), reused 0 (delta 0), pack-reused 361\u001b[K\n",
            "Receiving objects: 100% (361/361), 61.57 MiB | 23.22 MiB/s, done.\n",
            "Resolving deltas: 100% (196/196), done.\n",
            "/content/stylegan2-ada\n"
          ]
        }
      ]
    },
    {
      "cell_type": "code",
      "source": [
        "%tensorflow_version 1.x\n",
        "import tensorflow as tf"
      ],
      "metadata": {
        "id": "nefZVqUokNbG",
        "colab": {
          "base_uri": "https://localhost:8080/"
        },
        "outputId": "b610820e-2d8b-4234-b511-54e8a09f5130"
      },
      "execution_count": 3,
      "outputs": [
        {
          "output_type": "stream",
          "name": "stdout",
          "text": [
            "TensorFlow 1.x selected.\n"
          ]
        }
      ]
    },
    {
      "cell_type": "code",
      "source": [
        "# FFHQ\n",
        "!wget https://nvlabs-fi-cdn.nvidia.com/stylegan2-ada/pretrained/ffhq.pkl"
      ],
      "metadata": {
        "colab": {
          "base_uri": "https://localhost:8080/"
        },
        "id": "U1B_7J7ol0Gr",
        "outputId": "9e62f854-4a79-4167-e4a4-bd0cb7dee358"
      },
      "execution_count": null,
      "outputs": [
        {
          "output_type": "stream",
          "name": "stdout",
          "text": [
            "--2022-02-17 20:16:18--  https://nvlabs-fi-cdn.nvidia.com/stylegan2-ada/pretrained/ffhq.pkl\n",
            "Resolving nvlabs-fi-cdn.nvidia.com (nvlabs-fi-cdn.nvidia.com)... 108.159.227.118, 108.159.227.82, 108.159.227.48, ...\n",
            "Connecting to nvlabs-fi-cdn.nvidia.com (nvlabs-fi-cdn.nvidia.com)|108.159.227.118|:443... connected.\n",
            "HTTP request sent, awaiting response... 200 OK\n",
            "Length: 381646055 (364M) [binary/octet-stream]\n",
            "Saving to: ‘ffhq.pkl’\n",
            "\n",
            "ffhq.pkl            100%[===================>] 363.97M  20.0MB/s    in 19s     \n",
            "\n",
            "2022-02-17 20:16:38 (18.8 MB/s) - ‘ffhq.pkl’ saved [381646055/381646055]\n",
            "\n"
          ]
        }
      ]
    },
    {
      "cell_type": "code",
      "source": [
        "!wget https://archive.org/download/wikiart-stylegan2-conditional-model/WikiArt_Uncond2.pkl"
      ],
      "metadata": {
        "id": "AK6zvKAIc-Ym"
      },
      "execution_count": null,
      "outputs": []
    },
    {
      "cell_type": "code",
      "source": [
        "!wget https://archive.org/download/wikiart-stylegan2-conditional-model/WikiArt5.pkl"
      ],
      "metadata": {
        "id": "qQytXjye2Z3D"
      },
      "execution_count": null,
      "outputs": []
    },
    {
      "cell_type": "code",
      "source": [
        "# Metfaces\n",
        "!wget https://nvlabs-fi-cdn.nvidia.com/stylegan2-ada/pretrained/metfaces.pkl"
      ],
      "metadata": {
        "colab": {
          "base_uri": "https://localhost:8080/"
        },
        "id": "YZGpuT4O3tfn",
        "outputId": "3d399a23-d1c7-484b-9a4a-74668adb4c29"
      },
      "execution_count": null,
      "outputs": [
        {
          "output_type": "stream",
          "name": "stdout",
          "text": [
            "--2022-02-17 20:39:33--  https://nvlabs-fi-cdn.nvidia.com/stylegan2-ada/pretrained/metfaces.pkl\n",
            "Resolving nvlabs-fi-cdn.nvidia.com (nvlabs-fi-cdn.nvidia.com)... 108.159.227.118, 108.159.227.82, 108.159.227.98, ...\n",
            "Connecting to nvlabs-fi-cdn.nvidia.com (nvlabs-fi-cdn.nvidia.com)|108.159.227.118|:443... connected.\n",
            "HTTP request sent, awaiting response... 200 OK\n",
            "Length: 381646596 (364M) [binary/octet-stream]\n",
            "Saving to: ‘metfaces.pkl’\n",
            "\n",
            "metfaces.pkl        100%[===================>] 363.97M   123MB/s    in 3.0s    \n",
            "\n",
            "2022-02-17 20:39:37 (123 MB/s) - ‘metfaces.pkl’ saved [381646596/381646596]\n",
            "\n"
          ]
        }
      ]
    },
    {
      "cell_type": "code",
      "source": [
        "# Import Libs\n",
        "import tensorflow as tf\n",
        "import argparse\n",
        "import sys\n",
        "import os\n",
        "import subprocess\n",
        "import pickle\n",
        "import re\n",
        "from projector import Projector\n",
        "import tqdm\n",
        "import imageio\n",
        "\n",
        "import scipy\n",
        "import numpy as np\n",
        "import PIL.Image\n",
        "\n",
        "import dnnlib\n",
        "import dnnlib.tflib as tflib\n",
        "\n",
        "os.environ['PYGAME_HIDE_SUPPORT_PROMPT'] = \"hide\"\n",
        "import cv2\n",
        "import moviepy.editor\n",
        "from opensimplex import OpenSimplex\n",
        "\n",
        "import warnings # mostly numpy warnings for me\n",
        "warnings.filterwarnings('ignore', category=FutureWarning)\n",
        "warnings.filterwarnings('ignore', category=DeprecationWarning)"
      ],
      "metadata": {
        "id": "lGe8Yo_s30jX",
        "colab": {
          "base_uri": "https://localhost:8080/"
        },
        "outputId": "a07fbf09-ced2-420d-dec3-3c7b6f05bed8"
      },
      "execution_count": null,
      "outputs": [
        {
          "output_type": "stream",
          "name": "stdout",
          "text": [
            "Imageio: 'ffmpeg-linux64-v3.3.1' was not found on your computer; downloading it now.\n",
            "Try 1. Download from https://github.com/imageio/imageio-binaries/raw/master/ffmpeg/ffmpeg-linux64-v3.3.1 (43.8 MB)\n",
            "Downloading: 8192/45929032 bytes (0.0%)\b\b\b\b\b\b\b\b\b\b\b\b\b\b\b\b\b\b\b\b\b\b\b\b\b\b2605056/45929032 bytes (5.7%)\b\b\b\b\b\b\b\b\b\b\b\b\b\b\b\b\b\b\b\b\b\b\b\b\b\b\b\b\b5988352/45929032 bytes (13.0%)\b\b\b\b\b\b\b\b\b\b\b\b\b\b\b\b\b\b\b\b\b\b\b\b\b\b\b\b\b\b9568256/45929032 bytes (20.8%)\b\b\b\b\b\b\b\b\b\b\b\b\b\b\b\b\b\b\b\b\b\b\b\b\b\b\b\b\b\b12640256/45929032 bytes (27.5%)\b\b\b\b\b\b\b\b\b\b\b\b\b\b\b\b\b\b\b\b\b\b\b\b\b\b\b\b\b\b\b16039936/45929032 bytes (34.9%)\b\b\b\b\b\b\b\b\b\b\b\b\b\b\b\b\b\b\b\b\b\b\b\b\b\b\b\b\b\b\b19554304/45929032 bytes (42.6%)\b\b\b\b\b\b\b\b\b\b\b\b\b\b\b\b\b\b\b\b\b\b\b\b\b\b\b\b\b\b\b23093248/45929032 bytes (50.3%)\b\b\b\b\b\b\b\b\b\b\b\b\b\b\b\b\b\b\b\b\b\b\b\b\b\b\b\b\b\b\b26664960/45929032 bytes (58.1%)\b\b\b\b\b\b\b\b\b\b\b\b\b\b\b\b\b\b\b\b\b\b\b\b\b\b\b\b\b\b\b30236672/45929032 bytes (65.8%)\b\b\b\b\b\b\b\b\b\b\b\b\b\b\b\b\b\b\b\b\b\b\b\b\b\b\b\b\b\b\b33636352/45929032 bytes (73.2%)\b\b\b\b\b\b\b\b\b\b\b\b\b\b\b\b\b\b\b\b\b\b\b\b\b\b\b\b\b\b\b37232640/45929032 bytes (81.1%)\b\b\b\b\b\b\b\b\b\b\b\b\b\b\b\b\b\b\b\b\b\b\b\b\b\b\b\b\b\b\b40394752/45929032 bytes (88.0%)\b\b\b\b\b\b\b\b\b\b\b\b\b\b\b\b\b\b\b\b\b\b\b\b\b\b\b\b\b\b\b43917312/45929032 bytes (95.6%)\b\b\b\b\b\b\b\b\b\b\b\b\b\b\b\b\b\b\b\b\b\b\b\b\b\b\b\b\b\b\b45929032/45929032 bytes (100.0%)\n",
            "  Done\n",
            "File saved as /root/.imageio/ffmpeg/ffmpeg-linux64-v3.3.1.\n"
          ]
        }
      ]
    },
    {
      "cell_type": "code",
      "source": [
        "# Functions\n",
        "\n",
        "def create_image_grid(images, grid_size=None):\n",
        "    '''\n",
        "    Args:\n",
        "        images (np.array): images to place on the grid\n",
        "        grid_size (tuple(int, int)): size of grid (grid_w, grid_h)\n",
        "    Returns:\n",
        "        grid (np.array): image grid of size grid_size\n",
        "    '''\n",
        "    # Some sanity check:\n",
        "    assert images.ndim == 3 or images.ndim == 4\n",
        "    num, img_h, img_w = images.shape[0], images.shape[1], images.shape[2]\n",
        "    if grid_size is not None:\n",
        "        grid_w, grid_h = tuple(grid_size)\n",
        "    else:\n",
        "        grid_w = max(int(np.ceil(np.sqrt(num))), 1)\n",
        "        grid_h = max((num - 1) // grid_w + 1, 1)\n",
        "    # Get the grid\n",
        "    grid = np.zeros(\n",
        "        [grid_h * img_h, grid_w * img_w] + list(images.shape[-1:]), dtype=images.dtype\n",
        "    )\n",
        "    for idx in range(num):\n",
        "        x = (idx % grid_w) * img_w\n",
        "        y = (idx // grid_w) * img_h\n",
        "        grid[y : y + img_h, x : x + img_w, ...] = images[idx]\n",
        "    return grid\n",
        "\n",
        "def render_from_zs(Gs, zs, w_space=False, grid=False, class_idx=None, prefix=''):\n",
        "    images = []\n",
        "    Gs_kwargs = {\n",
        "        'output_transform': dict(func=tflib.convert_images_to_uint8, nchw_to_nhwc=True),\n",
        "        'randomize_noise': False\n",
        "    }\n",
        "    label = np.zeros([1] + Gs.input_shapes[1][1:])\n",
        "    if class_idx is not None:\n",
        "        label[:, class_idx] = 1\n",
        "    for i_z, z in enumerate(zs):\n",
        "        print('Generating image for latent code (%d/%d) ...' % (i_z, len(zs)))\n",
        "        if w_space:\n",
        "            image = Gs.components.synthesis.run(z, output_transform=dict(func=tflib.convert_images_to_uint8, nchw_to_nhwc=True))\n",
        "        else:\n",
        "            image = Gs.run(z, label, **Gs_kwargs) # [minibatch, height, width, channel]\n",
        "        images.append(image[0])\n",
        "        PIL.Image.fromarray(image[0], 'RGB').save(f'{outdir}/z{i_z:04d}.png')\n",
        "\n",
        "    # If user wants to save a grid of the generated images\n",
        "    if grid:\n",
        "        print('Generating image grid...')\n",
        "        PIL.Image.fromarray(create_image_grid(np.array(images)), 'RGB').save(f'{outdir}/grid{prefix}.png')\n",
        "\n",
        "def interpolate(za, zb, n_steps):\n",
        "    zs = []\n",
        "    for i in range(n_steps):\n",
        "        a = i/(n_steps-1)\n",
        "        z = (1-a)*za + a*zb\n",
        "        zs.append(z)\n",
        "    return zs\n",
        "\n",
        "def lerp_video(Gs,                         # Path to pretrained model pkl file\n",
        "               za,\n",
        "               zb,\n",
        "               w_space=False,\n",
        "               truncation_psi=1.0,         # Truncation trick\n",
        "               slowdown=1,                 # Slowdown of the video (power of 2)\n",
        "               duration_sec=30.0,          # Duration of video in seconds\n",
        "               smoothing_sec=3.0,\n",
        "               mp4_fps=30,\n",
        "               mp4_codec=\"libx264\",\n",
        "               mp4_bitrate=\"16M\"):\n",
        "    # Sanity check regarding slowdown\n",
        "    message = 'slowdown must be a power of 2 (1, 2, 4, 8, ...) and greater than 0!'\n",
        "    assert slowdown & (slowdown - 1) == 0 and slowdown > 0, message\n",
        "    # Total duration of video and number of frames to generate\n",
        "    num_frames = int(np.rint(duration_sec * mp4_fps))\n",
        "    total_duration = duration_sec * slowdown\n",
        "\n",
        "    print(\"Generating latent vectors...\")\n",
        "    all_latents = interpolate(za, zb, n_steps=num_frames)\n",
        "    print(np.array(all_latents).shape)\n",
        "    make_grid = False\n",
        "    if np.array(all_latents).shape[1] > 1:\n",
        "        make_grid = True\n",
        "\n",
        "    #all_latents = scipy.ndimage.gaussian_filter(\n",
        "    #    all_latents,\n",
        "    #    [smoothing_sec * mp4_fps] + [0] * len(Gs.input_shape),\n",
        "    #    mode=\"wrap\"\n",
        "    #)\n",
        "\n",
        "    #all_latents /= np.sqrt(np.mean(np.square(all_latents)))\n",
        "    # Name of the final mp4 video\n",
        "    mp4 = f\"lerp-{slowdown}xslowdown.mp4\"\n",
        "\n",
        "    # Aux function to slowdown the video by 2x\n",
        "    def double_slowdown(latents, duration_sec, num_frames):\n",
        "        # Make an empty latent vector with double the amount of frames\n",
        "        z = np.empty(np.multiply(latents.shape, [2, 1, 1]), dtype=np.float32)\n",
        "        # Populate it\n",
        "        for i in range(len(latents)):\n",
        "            z[2*i] = latents[i]\n",
        "        # Interpolate in the odd frames\n",
        "        for i in range(1, len(z), 2):\n",
        "            # For the last frame, we loop to the first one\n",
        "            if i == len(z) - 1:\n",
        "                z[i] = (z[0] + z[i-1]) / 2\n",
        "            else:\n",
        "                z[i] = (z[i-1] + z[i+1]) / 2\n",
        "        # We also need to double the duration_sec and num_frames\n",
        "        duration_sec *= 2\n",
        "        num_frames *= 2\n",
        "        # Return the new latents, and the two previous quantities\n",
        "        return z, duration_sec, num_frames\n",
        "\n",
        "    while slowdown > 1:\n",
        "        all_latents, duration_sec, num_frames = double_slowdown(all_latents, duration_sec, num_frames)\n",
        "        slowdown //= 2\n",
        "\n",
        "    # Define the kwargs for the Generator:\n",
        "    Gs_kwargs = {\n",
        "        'output_transform': dict(func=tflib.convert_images_to_uint8, nchw_to_nhwc=True),\n",
        "        'randomize_noise': False\n",
        "    }\n",
        "    label = np.zeros([1] + Gs.input_shapes[1][1:])\n",
        "\n",
        "    # Aux function: Frame generation func for moviepy.\n",
        "    def make_frame(t):\n",
        "        frame_idx = int(np.clip(np.round(t * mp4_fps), 0, num_frames - 1))\n",
        "        latents = all_latents[frame_idx]\n",
        "        # Get the images (with labels = None)\n",
        "        if w_space:\n",
        "            images = Gs.components.synthesis.run(latents, output_transform=dict(func=tflib.convert_images_to_uint8, nchw_to_nhwc=True))\n",
        "        else:\n",
        "            images = Gs.run(latents, label, **Gs_kwargs)\n",
        "        # Generate the grid for this timestamp:\n",
        "        if make_grid:\n",
        "            grid = create_image_grid(images)\n",
        "            ## grayscale => RGB\n",
        "            if grid.shape[2] == 1:\n",
        "                grid = grid.repeat(3, 2)\n",
        "            return grid\n",
        "        return images[0]\n",
        "\n",
        "    # Generate video using make_frame:\n",
        "    print(f'Generating interpolation video of length: {total_duration} seconds...')\n",
        "    videoclip = moviepy.editor.VideoClip(make_frame, duration=duration_sec)\n",
        "    videoclip.write_videofile(os.path.join(outdir, mp4),\n",
        "                              fps=mp4_fps,\n",
        "                              codec=mp4_codec,\n",
        "                              bitrate=mp4_bitrate)\n",
        "\n",
        "def project_image_into_wspace(Gs, name, save_video=False):\n",
        "    # Load target image.\n",
        "    imgpath = name+'.jpg'\n",
        "    print(imgpath)\n",
        "    target_pil = PIL.Image.open(imgpath)\n",
        "    w, h = target_pil.size\n",
        "    s = min(w, h)\n",
        "    target_pil = target_pil.crop(((w - s) // 2, (h - s) // 2, (w + s) // 2, (h + s) // 2))\n",
        "    target_pil= target_pil.convert('RGB')\n",
        "    target_pil = target_pil.resize((Gs.output_shape[3], Gs.output_shape[2]), PIL.Image.ANTIALIAS)\n",
        "    target_uint8 = np.array(target_pil, dtype=np.uint8)\n",
        "    target_float = target_uint8.astype(np.float32).transpose([2, 0, 1]) * (2 / 255) - 1\n",
        "\n",
        "    # Initialize projector.\n",
        "    proj = Projector()\n",
        "    proj.set_network(Gs)\n",
        "    proj.start([target_float])\n",
        "\n",
        "    # Videooption\n",
        "    writer = None\n",
        "    if save_video:\n",
        "        writer = imageio.get_writer(f'{outdir}/{name}_proj.mp4', mode='I', fps=60, codec='libx264', bitrate='16M')\n",
        "\n",
        "    # Run projector.\n",
        "    with tqdm.trange(proj.num_steps) as t:\n",
        "        for step in t:\n",
        "            assert step == proj.cur_step\n",
        "            if writer is not None:\n",
        "                writer.append_data(np.concatenate([target_uint8, proj.images_uint8[0]], axis=1))\n",
        "            dist, loss = proj.step()\n",
        "            t.set_postfix(dist=f'{dist[0]:.4f}', loss=f'{loss:.2f}')\n",
        "\n",
        "    # Save results.\n",
        "    PIL.Image.fromarray(proj.images_uint8[0], 'RGB').save(f'{outdir}/{name}_proj.png')\n",
        "    np.savez(f'{outdir}/{name}_dlatents.npz', dlatents=proj.dlatents)\n",
        "    return proj.dlatents"
      ],
      "metadata": {
        "id": "XiaroW5kLPpy"
      },
      "execution_count": null,
      "outputs": []
    },
    {
      "cell_type": "code",
      "source": [
        "# Pfad zu Model spezifizieren\n",
        "modelpfad = \"metfaces.pkl\"\n",
        "\n",
        "# Model laden\n",
        "tflib.init_tf()\n",
        "with dnnlib.util.open_url(modelpfad) as fp:\n",
        "    _G, _D, Gs = pickle.load(fp)"
      ],
      "metadata": {
        "id": "z0NUHI4k33hf"
      },
      "execution_count": null,
      "outputs": []
    },
    {
      "cell_type": "code",
      "source": [
        "# output ordner für renders erstellen\n",
        "outdir = \"out\"\n",
        "os.makedirs(outdir, exist_ok=True)"
      ],
      "metadata": {
        "id": "dAgbVo5k3_XX"
      },
      "execution_count": null,
      "outputs": []
    },
    {
      "cell_type": "markdown",
      "source": [
        "3.0 \"Der Latentspace ist einigermaßen kontinuierlich.\""
      ],
      "metadata": {
        "id": "oy_-0Wuq9DBH"
      }
    },
    {
      "cell_type": "code",
      "source": [
        "# 12 Zufällige Bilder generieren.\n",
        "zs = np.random.normal(0,1,(12,1,512))\n",
        "render_from_zs(Gs, zs, grid=True)"
      ],
      "metadata": {
        "colab": {
          "base_uri": "https://localhost:8080/"
        },
        "id": "lvruCQQX46Ef",
        "outputId": "24789964-ed34-4a3d-b782-a0732762f99f"
      },
      "execution_count": null,
      "outputs": [
        {
          "output_type": "stream",
          "name": "stdout",
          "text": [
            "Generating image for latent code (0/10) ...\n",
            "Generating image for latent code (1/10) ...\n",
            "Generating image for latent code (2/10) ...\n",
            "Generating image for latent code (3/10) ...\n",
            "Generating image for latent code (4/10) ...\n",
            "Generating image for latent code (5/10) ...\n",
            "Generating image for latent code (6/10) ...\n",
            "Generating image for latent code (7/10) ...\n",
            "Generating image for latent code (8/10) ...\n",
            "Generating image for latent code (9/10) ...\n",
            "Generating image grid...\n"
          ]
        }
      ]
    },
    {
      "cell_type": "code",
      "source": [
        "# Zwischen 2 zufälligen Bildern interpolieren.\n",
        "za = np.random.normal(0,1,(1,512))\n",
        "zb = np.random.normal(0,1,(1,512))\n",
        "zs = interpolate(za, zb, 12)\n",
        "render_from_zs(Gs, zs, w_space=False, grid=True, class_idx=None)"
      ],
      "metadata": {
        "id": "gWxsYSGu9AII"
      },
      "execution_count": null,
      "outputs": []
    },
    {
      "cell_type": "code",
      "source": [
        "# Video-Interpolation zwischen 2 zufälligen Bildern\n",
        "za = np.random.normal(0,1,(1,512))\n",
        "zb = np.random.normal(0,1,(1,512))\n",
        "zs = interpolate(za, zb, 12)\n",
        "render_from_zs(Gs, zs, grid=True, class_idx=None)\n",
        "lerp_video(Gs,\n",
        "          za,\n",
        "          zb,\n",
        "          w_space=False\n",
        "          truncation_psi=1.0,         # Truncation trick\n",
        "          slowdown=1,                 # Slowdown of the video (power of 2)\n",
        "          duration_sec=3.0,          # Duration of video in seconds\n",
        "          smoothing_sec=0.4,\n",
        "          mp4_fps=30,\n",
        "          mp4_codec=\"libx264\",\n",
        "          mp4_bitrate=\"16M\")"
      ],
      "metadata": {
        "colab": {
          "base_uri": "https://localhost:8080/"
        },
        "id": "HpyK8ONRDuO1",
        "outputId": "b01fed0b-9d84-4643-f47c-e9a377dab9d6"
      },
      "execution_count": null,
      "outputs": [
        {
          "output_type": "stream",
          "name": "stdout",
          "text": [
            "Generating image for latent code (0/12) ...\n",
            "Generating image for latent code (1/12) ...\n",
            "Generating image for latent code (2/12) ...\n",
            "Generating image for latent code (3/12) ...\n",
            "Generating image for latent code (4/12) ...\n",
            "Generating image for latent code (5/12) ...\n",
            "Generating image for latent code (6/12) ...\n",
            "Generating image for latent code (7/12) ...\n",
            "Generating image for latent code (8/12) ...\n",
            "Generating image for latent code (9/12) ...\n",
            "Generating image for latent code (10/12) ...\n",
            "Generating image for latent code (11/12) ...\n",
            "Generating image grid...\n",
            "Generating latent vectors...\n",
            "Generating interpolation video of length: 3.0 seconds...\n",
            "[MoviePy] >>>> Building video out/lerp-1xslowdown.mp4\n",
            "[MoviePy] Writing video out/lerp-1xslowdown.mp4\n"
          ]
        },
        {
          "output_type": "stream",
          "name": "stderr",
          "text": [
            " 99%|█████████▉| 90/91 [00:07<00:00, 12.50it/s]\n"
          ]
        },
        {
          "output_type": "stream",
          "name": "stdout",
          "text": [
            "[MoviePy] Done.\n",
            "[MoviePy] >>>> Video ready: out/lerp-1xslowdown.mp4 \n",
            "\n"
          ]
        }
      ]
    },
    {
      "cell_type": "markdown",
      "source": [
        "4.0 Eigene Daten in den Latentspace projizieren"
      ],
      "metadata": {
        "id": "_KVhXmOkJ6zX"
      }
    },
    {
      "cell_type": "code",
      "source": [
        "rubens_w = project_image_into_wspace(Gs, 'rubens', save_video=True)\n",
        "rembrandt_w = project_image_into_wspace(Gs, 'rembrandt')\n",
        "cot_w = project_image_into_wspace(Gs, 'cot')\n",
        "duerer_w = project_image_into_wspace(Gs, 'duerer', save_video=True)"
      ],
      "metadata": {
        "colab": {
          "base_uri": "https://localhost:8080/"
        },
        "id": "lqh0GsV1dwTG",
        "outputId": "a5c6a9d6-04ab-49eb-82a5-9a43ed568e5b"
      },
      "execution_count": null,
      "outputs": [
        {
          "output_type": "stream",
          "name": "stdout",
          "text": [
            "duerer.jpg\n",
            "Projector: Computing W midpoint and stddev using 10000 samples...\n",
            "Projector: std = 35.7994\n",
            "Projector: Setting up noise inputs...\n",
            "Projector: Building image output graph...\n",
            "Projector: Building loss graph...\n",
            "Projector: Building noise regularization graph...\n",
            "Projector: Setting up optimizer...\n",
            "Projector: Preparing target images...\n",
            "Projector: Initializing optimization state...\n"
          ]
        },
        {
          "output_type": "stream",
          "name": "stderr",
          "text": [
            "100%|██████████| 1000/1000 [03:20<00:00,  5.00it/s, dist=0.1820, loss=0.18]\n"
          ]
        }
      ]
    },
    {
      "cell_type": "code",
      "source": [
        "## FFHQ Model laden\n",
        "tflib.init_tf()\n",
        "with dnnlib.util.open_url(\"ffhq.pkl\") as fp:\n",
        "    _G, _D, Gs_ffhq = pickle.load(fp)"
      ],
      "metadata": {
        "id": "a3ywAvS4lq65"
      },
      "execution_count": null,
      "outputs": []
    },
    {
      "cell_type": "code",
      "source": [
        "## Duerer in den Latentspace von FFHQ projizieren\n",
        "_ = project_image_into_wspace(Gs, 'duerer', save_video=True)"
      ],
      "metadata": {
        "id": "i7H5SPUnWJxA"
      },
      "execution_count": null,
      "outputs": []
    },
    {
      "cell_type": "code",
      "source": [
        "# Interpolation zw. Duerer-Projektion und einem zufälligen Bild\n",
        "\n",
        "duerer_w = np.load(outdir+'/duerer_dlatents.npz')['dlatents']\n",
        "duerer_w.shape\n",
        "w_za = Gs.components.mapping.run(np.random.normal(0,1,(1,512)), None)\n",
        "w_duerer_za = interpolate(w_za, duerer_w, n_steps=12)\n",
        "render_from_zs(Gs, w_duerer_za, w_space=True, grid=True, class_idx=None)\n",
        "\n",
        "lerp_video(Gs,\n",
        "               w_za,\n",
        "               duerer_w,\n",
        "               w_space=True,\n",
        "               truncation_psi=1.0,         # Truncation trick\n",
        "               slowdown=1,                 # Slowdown of the video (power of 2)\n",
        "               duration_sec=4.0,          # Duration of video in seconds\n",
        "               smoothing_sec=1.0,\n",
        "               mp4_fps=30,\n",
        "               mp4_codec=\"libx264\",\n",
        "               mp4_bitrate=\"16M\")"
      ],
      "metadata": {
        "id": "xIc6E27VmSin",
        "colab": {
          "base_uri": "https://localhost:8080/"
        },
        "outputId": "3b59ebed-1234-447a-8fa6-7790899241cc"
      },
      "execution_count": null,
      "outputs": [
        {
          "output_type": "stream",
          "name": "stdout",
          "text": [
            "Generating image for latent code (0/12) ...\n",
            "Generating image for latent code (1/12) ...\n",
            "Generating image for latent code (2/12) ...\n",
            "Generating image for latent code (3/12) ...\n",
            "Generating image for latent code (4/12) ...\n",
            "Generating image for latent code (5/12) ...\n",
            "Generating image for latent code (6/12) ...\n",
            "Generating image for latent code (7/12) ...\n",
            "Generating image for latent code (8/12) ...\n",
            "Generating image for latent code (9/12) ...\n",
            "Generating image for latent code (10/12) ...\n",
            "Generating image for latent code (11/12) ...\n",
            "Generating image grid...\n",
            "Generating latent vectors...\n",
            "(120, 1, 18, 512)\n",
            "Generating interpolation video of length: 4.0 seconds...\n",
            "[MoviePy] >>>> Building video out/lerp-1xslowdown.mp4\n",
            "[MoviePy] Writing video out/lerp-1xslowdown.mp4\n"
          ]
        },
        {
          "output_type": "stream",
          "name": "stderr",
          "text": [
            " 99%|█████████▉| 120/121 [00:16<00:00,  7.31it/s]\n"
          ]
        },
        {
          "output_type": "stream",
          "name": "stdout",
          "text": [
            "[MoviePy] Done.\n",
            "[MoviePy] >>>> Video ready: out/lerp-1xslowdown.mp4 \n",
            "\n"
          ]
        }
      ]
    },
    {
      "cell_type": "code",
      "source": [
        "# Interpolation zwischen 3 Bildern\n",
        "zs = [np.random.normal(0,1,(1,512)) for i in range(3)]\n",
        "zs.append(np.mean(zs, axis=0))\n",
        "render_from_zs(Gs, zs, grid=True)"
      ],
      "metadata": {
        "id": "ybO52aRpXH7x",
        "outputId": "5f6e5fe4-bff9-4bad-8c86-68807443a82c",
        "colab": {
          "base_uri": "https://localhost:8080/"
        }
      },
      "execution_count": null,
      "outputs": [
        {
          "output_type": "stream",
          "name": "stdout",
          "text": [
            "Generating image for latent code (0/4) ...\n",
            "Generating image for latent code (1/4) ...\n",
            "Generating image for latent code (2/4) ...\n",
            "Generating image for latent code (3/4) ...\n",
            "Generating image grid...\n"
          ]
        }
      ]
    },
    {
      "cell_type": "markdown",
      "source": [
        "5.0 Skalierung im W-Space"
      ],
      "metadata": {
        "id": "iL70THVaoHMS"
      }
    },
    {
      "cell_type": "code",
      "source": [
        "zs = np.random.normal(0,1,(6,512))\n",
        "zs_w = Gs.components.mapping.run(zs, None)\n",
        "zs_w_b = zs_w * 8\n",
        "zs_w *= 0\n",
        "\n",
        "lerp_video(Gs,\n",
        "               zs_w,\n",
        "               zs_w_b,\n",
        "               w_space=True,\n",
        "               truncation_psi=1.0,         # Truncation trick\n",
        "               slowdown=1,                 # Slowdown of the video (power of 2)\n",
        "               duration_sec=5.0,          # Duration of video in seconds\n",
        "               smoothing_sec=1.0,\n",
        "               mp4_fps=30,\n",
        "               mp4_codec=\"libx264\",\n",
        "               mp4_bitrate=\"16M\")"
      ],
      "metadata": {
        "id": "zqE254z-d9Ow",
        "outputId": "9f296593-2ad9-4c78-ac7c-f6dab5fd7243",
        "colab": {
          "base_uri": "https://localhost:8080/"
        }
      },
      "execution_count": null,
      "outputs": [
        {
          "output_type": "stream",
          "name": "stdout",
          "text": [
            "1.0\n",
            "Generating image for latent code (0/6) ...\n",
            "Generating image for latent code (1/6) ...\n",
            "Generating image for latent code (2/6) ...\n",
            "Generating image for latent code (3/6) ...\n",
            "Generating image for latent code (4/6) ...\n",
            "Generating image for latent code (5/6) ...\n",
            "Generating image grid...\n",
            "2.0\n",
            "Generating image for latent code (0/6) ...\n",
            "Generating image for latent code (1/6) ...\n",
            "Generating image for latent code (2/6) ...\n",
            "Generating image for latent code (3/6) ...\n",
            "Generating image for latent code (4/6) ...\n",
            "Generating image for latent code (5/6) ...\n",
            "Generating image grid...\n",
            "4.0\n",
            "Generating image for latent code (0/6) ...\n",
            "Generating image for latent code (1/6) ...\n",
            "Generating image for latent code (2/6) ...\n",
            "Generating image for latent code (3/6) ...\n",
            "Generating image for latent code (4/6) ...\n",
            "Generating image for latent code (5/6) ...\n",
            "Generating image grid...\n",
            "7.999999999999999\n",
            "Generating image for latent code (0/6) ...\n",
            "Generating image for latent code (1/6) ...\n",
            "Generating image for latent code (2/6) ...\n",
            "Generating image for latent code (3/6) ...\n",
            "Generating image for latent code (4/6) ...\n",
            "Generating image for latent code (5/6) ...\n",
            "Generating image grid...\n",
            "16.0\n",
            "Generating image for latent code (0/6) ...\n",
            "Generating image for latent code (1/6) ...\n",
            "Generating image for latent code (2/6) ...\n",
            "Generating image for latent code (3/6) ...\n",
            "Generating image for latent code (4/6) ...\n",
            "Generating image for latent code (5/6) ...\n",
            "Generating image grid...\n",
            "32.00000000000001\n",
            "Generating image for latent code (0/6) ...\n",
            "Generating image for latent code (1/6) ...\n",
            "Generating image for latent code (2/6) ...\n",
            "Generating image for latent code (3/6) ...\n",
            "Generating image for latent code (4/6) ...\n",
            "Generating image for latent code (5/6) ...\n",
            "Generating image grid...\n"
          ]
        }
      ]
    },
    {
      "cell_type": "code",
      "source": [
        ""
      ],
      "metadata": {
        "id": "5d9_x96SYkYj"
      },
      "execution_count": null,
      "outputs": []
    }
  ]
}