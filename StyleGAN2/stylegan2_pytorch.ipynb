{
  "nbformat": 4,
  "nbformat_minor": 0,
  "metadata": {
    "colab": {
      "name": "stylegan2_faces_unconditional.ipynb",
      "provenance": []
    },
    "kernelspec": {
      "name": "python3",
      "display_name": "Python 3"
    },
    "language_info": {
      "name": "python"
    },
    "accelerator": "GPU"
  },
  "cells": [
    {
      "cell_type": "code",
      "source": [
        "# Google Drive können wir folgendermaßen mounten:\n",
        "from google.colab import drive\n",
        "drive.mount('/content/gdrive')"
      ],
      "metadata": {
        "colab": {
          "base_uri": "https://localhost:8080/"
        },
        "id": "5LCBCWV7JWuN",
        "outputId": "0367ff09-5807-4256-ea5e-efda98e6f19f"
      },
      "execution_count": null,
      "outputs": [
        {
          "output_type": "stream",
          "name": "stdout",
          "text": [
            "Mounted at /content/gdrive\n"
          ]
        }
      ]
    },
    {
      "cell_type": "code",
      "source": [
        "!pip install opensimplex"
      ],
      "metadata": {
        "id": "RLdVsS03gfmw"
      },
      "execution_count": null,
      "outputs": []
    },
    {
      "cell_type": "code",
      "source": [
        "%cd /content/\n",
        "!git clone https://github.com/NVlabs/stylegan2-ada-pytorch\n",
        "%cd /content/stylegan2-ada-pytorch\n",
        "!mkdir out"
      ],
      "metadata": {
        "id": "U9OyW94ogkfl"
      },
      "execution_count": null,
      "outputs": []
    },
    {
      "cell_type": "code",
      "source": [
        "# FFHQ\n",
        "!wget https://nvlabs-fi-cdn.nvidia.com/stylegan2-ada-pytorch/pretrained/metfaces.pkl"
      ],
      "metadata": {
        "id": "U1B_7J7ol0Gr"
      },
      "execution_count": null,
      "outputs": []
    },
    {
      "cell_type": "code",
      "source": [
        "# unconditional generation\n",
        "!python generate.py --outdir=out --trunc=1 --seeds=85,265,297,849 --network=metfaces.pkl"
      ],
      "metadata": {
        "id": "u7R6FkqxtOlw"
      },
      "execution_count": null,
      "outputs": []
    },
    {
      "cell_type": "code",
      "source": [
        "!wget https://upload.wikimedia.org/wikipedia/commons/thumb/4/45/Eopsaltria_australis_-_Mogo_Campground.jpg/1280px-Eopsaltria_australis_-_Mogo_Campground.jpg"
      ],
      "metadata": {
        "id": "7nJh94ULwjVd"
      },
      "execution_count": null,
      "outputs": []
    },
    {
      "cell_type": "code",
      "source": [
        "import cv2"
      ],
      "metadata": {
        "id": "6WsuWFCmwn80"
      },
      "execution_count": 19,
      "outputs": []
    },
    {
      "cell_type": "code",
      "source": [
        "x = cv2.imread(\"bird.jpg\")"
      ],
      "metadata": {
        "id": "qjTohczbwo58"
      },
      "execution_count": 20,
      "outputs": []
    },
    {
      "cell_type": "code",
      "source": [
        "r = 1024 / min(x.shape[:2])\n",
        "s = (int(round(x.shape[1] * r)), int(round(x.shape[0] * r)))\n",
        "print(s)\n",
        "x = cv2.resize(x, s)[:1024,:1024]\n",
        "print(x.shape)\n",
        "cv2.imwrite('resized.jpg', x)"
      ],
      "metadata": {
        "id": "j5y5gnG3wrcU"
      },
      "execution_count": null,
      "outputs": []
    },
    {
      "cell_type": "code",
      "source": [
        "!pip3 install imageio==2.4.1"
      ],
      "metadata": {
        "id": "8N7FS8PpyPaY"
      },
      "execution_count": null,
      "outputs": []
    },
    {
      "cell_type": "code",
      "source": [
        "!python projector.py --outdir=out --target=resized.jpg --network=metfaces.pkl"
      ],
      "metadata": {
        "id": "yYaCKkkwv-P2"
      },
      "execution_count": null,
      "outputs": []
    },
    {
      "cell_type": "code",
      "source": [
        "import pickle\n",
        "import torch\n",
        "with open('metfaces.pkl', 'rb') as f:\n",
        "    G = pickle.load(f)['G_ema'].cuda()  # torch.nn.Module\n",
        "z = torch.randn([1, G.z_dim]).cuda()    # latent codes\n",
        "c = None                                # class labels (not used in this example)\n",
        "img = G(z, c)                           # NCHW, float32, dynamic range [-1, +1]"
      ],
      "metadata": {
        "id": "vZPD7f4twJPe"
      },
      "execution_count": null,
      "outputs": []
    },
    {
      "cell_type": "code",
      "source": [
        "# Interpolation"
      ],
      "metadata": {
        "id": "W-rnA1E50ie9"
      },
      "execution_count": null,
      "outputs": []
    },
    {
      "cell_type": "code",
      "source": [],
      "metadata": {
        "id": "_1x4xM-t09oO"
      },
      "execution_count": null,
      "outputs": []
    }
  ]
}