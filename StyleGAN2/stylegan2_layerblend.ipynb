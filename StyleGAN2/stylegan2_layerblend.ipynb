{
  "nbformat": 4,
  "nbformat_minor": 0,
  "metadata": {
    "colab": {
      "name": "stylegan2_layerblend.ipynb",
      "provenance": [],
      "collapsed_sections": []
    },
    "kernelspec": {
      "name": "python3",
      "display_name": "Python 3"
    },
    "language_info": {
      "name": "python"
    },
    "accelerator": "GPU"
  },
  "cells": [
    {
      "cell_type": "code",
      "source": [
        "%cd /content/\n",
        "!git clone https://github.com/pbaylies/stylegan2-ada\n",
        "%cd /content/stylegan2-ada\n",
        "!mkdir out"
      ],
      "metadata": {
        "colab": {
          "base_uri": "https://localhost:8080/"
        },
        "id": "_2kyFmNYGUxe",
        "outputId": "0ffa25bb-af49-4df8-e9cb-58c7c9254b47"
      },
      "execution_count": 1,
      "outputs": [
        {
          "output_type": "stream",
          "name": "stdout",
          "text": [
            "/content\n",
            "Cloning into 'stylegan2-ada'...\n",
            "remote: Enumerating objects: 361, done.\u001b[K\n",
            "remote: Total 361 (delta 0), reused 0 (delta 0), pack-reused 361\u001b[K\n",
            "Receiving objects: 100% (361/361), 61.57 MiB | 29.23 MiB/s, done.\n",
            "Resolving deltas: 100% (196/196), done.\n",
            "/content/stylegan2-ada\n"
          ]
        }
      ]
    },
    {
      "cell_type": "code",
      "source": [
        "cd /content/stylegan2-ada"
      ],
      "metadata": {
        "colab": {
          "base_uri": "https://localhost:8080/"
        },
        "id": "_MdFrCIWIybe",
        "outputId": "07c746ee-f94b-4843-85a2-4af930c78560"
      },
      "execution_count": 2,
      "outputs": [
        {
          "output_type": "stream",
          "name": "stdout",
          "text": [
            "/content/stylegan2-ada\n"
          ]
        }
      ]
    },
    {
      "cell_type": "code",
      "source": [
        "%tensorflow_version 1.x\n",
        "import tensorflow as tf"
      ],
      "metadata": {
        "colab": {
          "base_uri": "https://localhost:8080/"
        },
        "id": "D80RvfDhHO7-",
        "outputId": "27d5b73d-8aae-4de8-8fbd-7d41864ed4a1"
      },
      "execution_count": 3,
      "outputs": [
        {
          "output_type": "stream",
          "name": "stdout",
          "text": [
            "TensorFlow 1.x selected.\n"
          ]
        }
      ]
    },
    {
      "cell_type": "code",
      "source": [
        "!pip install opensimplex"
      ],
      "metadata": {
        "colab": {
          "base_uri": "https://localhost:8080/"
        },
        "id": "klcmk4tQHVqu",
        "outputId": "6b278617-4570-4aac-b16c-ddc583b39dd2"
      },
      "execution_count": 4,
      "outputs": [
        {
          "output_type": "stream",
          "name": "stdout",
          "text": [
            "Collecting opensimplex\n",
            "  Downloading opensimplex-0.4.2-py3-none-any.whl (17 kB)\n",
            "Requirement already satisfied: numpy>=1.20 in /usr/local/lib/python3.7/dist-packages (from opensimplex) (1.21.5)\n",
            "Installing collected packages: opensimplex\n",
            "Successfully installed opensimplex-0.4.2\n"
          ]
        }
      ]
    },
    {
      "cell_type": "code",
      "execution_count": 9,
      "metadata": {
        "colab": {
          "base_uri": "https://localhost:8080/"
        },
        "id": "zlxBtf9rJYCs",
        "outputId": "9aae5922-eaac-4498-c96a-a4da98aec855"
      },
      "outputs": [
        {
          "output_type": "stream",
          "name": "stdout",
          "text": [
            "--2022-03-01 15:40:20--  https://nvlabs-fi-cdn.nvidia.com/stylegan2-ada/pretrained/ffhq.pkl\n",
            "Resolving nvlabs-fi-cdn.nvidia.com (nvlabs-fi-cdn.nvidia.com)... 52.84.159.86, 52.84.159.50, 52.84.159.125, ...\n",
            "Connecting to nvlabs-fi-cdn.nvidia.com (nvlabs-fi-cdn.nvidia.com)|52.84.159.86|:443... connected.\n",
            "HTTP request sent, awaiting response... 200 OK\n",
            "Length: 381646055 (364M) [binary/octet-stream]\n",
            "Saving to: ‘ffhq.pkl.1’\n",
            "\n",
            "ffhq.pkl.1          100%[===================>] 363.97M   184MB/s    in 2.0s    \n",
            "\n",
            "2022-03-01 15:40:23 (184 MB/s) - ‘ffhq.pkl.1’ saved [381646055/381646055]\n",
            "\n"
          ]
        }
      ],
      "source": [
        "# FFHQ\n",
        "!wget https://nvlabs-fi-cdn.nvidia.com/stylegan2-ada/pretrained/ffhq.pkl"
      ]
    },
    {
      "cell_type": "code",
      "source": [
        "# Metfaces\n",
        "!wget https://nvlabs-fi-cdn.nvidia.com/stylegan2-ada/pretrained/metfaces.pkl"
      ],
      "metadata": {
        "colab": {
          "base_uri": "https://localhost:8080/"
        },
        "id": "DhhcBr4dJZET",
        "outputId": "d82915cc-044d-4218-aad2-2390447933d5"
      },
      "execution_count": 7,
      "outputs": [
        {
          "output_type": "stream",
          "name": "stdout",
          "text": [
            "--2022-03-01 15:33:54--  https://nvlabs-fi-cdn.nvidia.com/stylegan2-ada/pretrained/metfaces.pkl\n",
            "Resolving nvlabs-fi-cdn.nvidia.com (nvlabs-fi-cdn.nvidia.com)... 52.84.159.125, 52.84.159.86, 52.84.159.50, ...\n",
            "Connecting to nvlabs-fi-cdn.nvidia.com (nvlabs-fi-cdn.nvidia.com)|52.84.159.125|:443... connected.\n",
            "HTTP request sent, awaiting response... 200 OK\n",
            "Length: 381646596 (364M) [binary/octet-stream]\n",
            "Saving to: ‘metfaces.pkl’\n",
            "\n",
            "metfaces.pkl        100%[===================>] 363.97M  24.1MB/s    in 29s     \n",
            "\n",
            "2022-03-01 15:34:24 (12.7 MB/s) - ‘metfaces.pkl’ saved [381646596/381646596]\n",
            "\n"
          ]
        }
      ]
    },
    {
      "cell_type": "code",
      "source": [
        "# Import Libs\n",
        "import tensorflow as tf\n",
        "import argparse\n",
        "import sys\n",
        "import os\n",
        "import subprocess\n",
        "import pickle\n",
        "import re\n",
        "from projector import Projector\n",
        "import tqdm\n",
        "import imageio\n",
        "import copy\n",
        "\n",
        "import scipy\n",
        "import numpy as np\n",
        "import PIL.Image\n",
        "\n",
        "import dnnlib\n",
        "import dnnlib.tflib as tflib\n",
        "\n",
        "os.environ['PYGAME_HIDE_SUPPORT_PROMPT'] = \"hide\"\n",
        "import cv2\n",
        "import moviepy.editor\n",
        "from opensimplex import OpenSimplex\n",
        "\n",
        "import warnings # mostly numpy warnings for me\n",
        "warnings.filterwarnings('ignore', category=FutureWarning)\n",
        "warnings.filterwarnings('ignore', category=DeprecationWarning)"
      ],
      "metadata": {
        "id": "xeQQ8AgjFkIF"
      },
      "execution_count": 4,
      "outputs": []
    },
    {
      "cell_type": "code",
      "source": [
        "def create_image_grid(images, grid_size=None):\n",
        "    '''\n",
        "    Args:\n",
        "        images (np.array): images to place on the grid\n",
        "        grid_size (tuple(int, int)): size of grid (grid_w, grid_h)\n",
        "    Returns:\n",
        "        grid (np.array): image grid of size grid_size\n",
        "    '''\n",
        "    # Some sanity check:\n",
        "    assert images.ndim == 3 or images.ndim == 4\n",
        "    num, img_h, img_w = images.shape[0], images.shape[1], images.shape[2]\n",
        "    if grid_size is not None:\n",
        "        grid_w, grid_h = tuple(grid_size)\n",
        "    else:\n",
        "        grid_w = max(int(np.ceil(np.sqrt(num))), 1)\n",
        "        grid_h = max((num - 1) // grid_w + 1, 1)\n",
        "    # Get the grid\n",
        "    grid = np.zeros(\n",
        "        [grid_h * img_h, grid_w * img_w] + list(images.shape[-1:]), dtype=images.dtype\n",
        "    )\n",
        "    for idx in range(num):\n",
        "        x = (idx % grid_w) * img_w\n",
        "        y = (idx // grid_w) * img_h\n",
        "        grid[y : y + img_h, x : x + img_w, ...] = images[idx]\n",
        "    return grid\n",
        "\n",
        "def render_from_zs(Gs, zs, w_space=False, grid=False, class_idx=None, prefix='', outdir='out'):\n",
        "    images = []\n",
        "    Gs_kwargs = {\n",
        "        'output_transform': dict(func=tflib.convert_images_to_uint8, nchw_to_nhwc=True),\n",
        "        'randomize_noise': False\n",
        "    }\n",
        "    label = np.zeros([1] + Gs.input_shapes[1][1:])\n",
        "    if class_idx is not None:\n",
        "        label[:, class_idx] = 1\n",
        "    for i_z, z in enumerate(zs):\n",
        "        print('Generating image for latent code (%d/%d) ...' % (i_z, len(zs)))\n",
        "        if w_space:\n",
        "            image = Gs.components.synthesis.run(z, output_transform=dict(func=tflib.convert_images_to_uint8, nchw_to_nhwc=True))\n",
        "        else:\n",
        "            image = Gs.run(z, label, **Gs_kwargs) # [minibatch, height, width, channel]\n",
        "        images.append(image[0])\n",
        "        PIL.Image.fromarray(image[0], 'RGB').save(f'{outdir}/z{i_z:04d}.png')\n",
        "\n",
        "    # If user wants to save a grid of the generated images\n",
        "    if grid:\n",
        "        print('Generating image grid...')\n",
        "        PIL.Image.fromarray(create_image_grid(np.array(images)), 'RGB').save(f'{outdir}/grid{prefix}.png')"
      ],
      "metadata": {
        "id": "Fd-_EEOLOmHv"
      },
      "execution_count": 43,
      "outputs": []
    },
    {
      "cell_type": "code",
      "source": [
        "# FFHQ laden\n",
        "tflib.init_tf()\n",
        "with dnnlib.util.open_url(\"ffhq.pkl\") as fp:\n",
        "    _, _, ffhq = pickle.load(fp)"
      ],
      "metadata": {
        "id": "T9mUwPHuFlet"
      },
      "execution_count": 95,
      "outputs": []
    },
    {
      "cell_type": "code",
      "source": [
        "# Met laden\n",
        "tflib.init_tf()\n",
        "with dnnlib.util.open_url(\"metfaces.pkl\") as fp:\n",
        "    _, _, met = pickle.load(fp)"
      ],
      "metadata": {
        "id": "rDwm46XUJ3YO"
      },
      "execution_count": 11,
      "outputs": []
    },
    {
      "cell_type": "code",
      "source": [
        "def replace(depth=90):\n",
        "    init = tf.initialize_all_variables()\n",
        "    session = tf.InteractiveSession()\n",
        "    session.run(init)\n",
        "\n",
        "    # FFHQ laden\n",
        "    tflib.init_tf()\n",
        "    with dnnlib.util.open_url(\"metfaces.pkl\") as fp:\n",
        "        _, _, met = pickle.load(fp)\n",
        "\n",
        "    # get keys\n",
        "    keys = [key for key in met.vars][-depth:]\n",
        "\n",
        "    # Met laden\n",
        "    with dnnlib.util.open_url(\"ffhq.pkl\") as fp:\n",
        "        _, _, ffhq = pickle.load(fp)\n",
        "\n",
        "    # replace\n",
        "    for key in keys:\n",
        "        session.run(ffhq.vars[key].assign(met.vars[key]))\n",
        "\n",
        "    #assign_op = layer.assign(met.vars[keys[0]])\n",
        "    #session.run(assign_op)\n",
        "    return ffhq"
      ],
      "metadata": {
        "id": "8nzqbi8tTnhy"
      },
      "execution_count": 91,
      "outputs": []
    },
    {
      "cell_type": "code",
      "source": [
        "fused = replace(4)"
      ],
      "metadata": {
        "id": "AQLRFa4gWHmx"
      },
      "execution_count": 97,
      "outputs": []
    },
    {
      "cell_type": "code",
      "source": [
        "# 12 Zufällige Bilder generieren.\n",
        "render_from_zs(fused, zs, grid=True)"
      ],
      "metadata": {
        "colab": {
          "base_uri": "https://localhost:8080/"
        },
        "id": "eDmWZGeqOf0o",
        "outputId": "7a9f003c-5b8d-4a96-9d85-eb90ba1e5ef2"
      },
      "execution_count": 96,
      "outputs": [
        {
          "output_type": "stream",
          "name": "stdout",
          "text": [
            "Generating image for latent code (0/12) ...\n",
            "Generating image for latent code (1/12) ...\n",
            "Generating image for latent code (2/12) ...\n",
            "Generating image for latent code (3/12) ...\n",
            "Generating image for latent code (4/12) ...\n",
            "Generating image for latent code (5/12) ...\n",
            "Generating image for latent code (6/12) ...\n",
            "Generating image for latent code (7/12) ...\n",
            "Generating image for latent code (8/12) ...\n",
            "Generating image for latent code (9/12) ...\n",
            "Generating image for latent code (10/12) ...\n",
            "Generating image for latent code (11/12) ...\n",
            "Generating image grid...\n"
          ]
        }
      ]
    },
    {
      "cell_type": "code",
      "source": [
        "for count, layer in enumerate(fused.list_layers()):\n",
        "    print(count, layer)"
      ],
      "metadata": {
        "colab": {
          "base_uri": "https://localhost:8080/"
        },
        "id": "NJQdxZUIKjT3",
        "outputId": "cf1556be-c70b-4194-c4ce-709e42a85084"
      },
      "execution_count": 20,
      "outputs": [
        {
          "output_type": "stream",
          "name": "stdout",
          "text": [
            "0 ('latents_in', <tf.Tensor 'G_main_4/latents_in:0' shape=(?, 512) dtype=float32>, [])\n",
            "1 ('labels_in', <tf.Tensor 'G_main_4/labels_in:0' shape=(?, 0) dtype=float32>, [])\n",
            "2 ('G_mapping/Normalize', <tf.Tensor 'G_main_4/G_mapping/Normalize/mul:0' shape=(?, 512) dtype=float32>, [])\n",
            "3 ('G_mapping/Dense0', <tf.Tensor 'G_main_4/G_mapping/Dense0/IdentityN:0' shape=(?, 512) dtype=float32>, [<tf.Variable 'G_mapping_4/Dense0/weight:0' shape=(512, 512) dtype=float32_ref>, <tf.Variable 'G_mapping_4/Dense0/bias:0' shape=(512,) dtype=float32_ref>])\n",
            "4 ('G_mapping/Dense1', <tf.Tensor 'G_main_4/G_mapping/Dense1/IdentityN:0' shape=(?, 512) dtype=float32>, [<tf.Variable 'G_mapping_4/Dense1/weight:0' shape=(512, 512) dtype=float32_ref>, <tf.Variable 'G_mapping_4/Dense1/bias:0' shape=(512,) dtype=float32_ref>])\n",
            "5 ('G_mapping/Dense2', <tf.Tensor 'G_main_4/G_mapping/Dense2/IdentityN:0' shape=(?, 512) dtype=float32>, [<tf.Variable 'G_mapping_4/Dense2/weight:0' shape=(512, 512) dtype=float32_ref>, <tf.Variable 'G_mapping_4/Dense2/bias:0' shape=(512,) dtype=float32_ref>])\n",
            "6 ('G_mapping/Dense3', <tf.Tensor 'G_main_4/G_mapping/Dense3/IdentityN:0' shape=(?, 512) dtype=float32>, [<tf.Variable 'G_mapping_4/Dense3/weight:0' shape=(512, 512) dtype=float32_ref>, <tf.Variable 'G_mapping_4/Dense3/bias:0' shape=(512,) dtype=float32_ref>])\n",
            "7 ('G_mapping/Dense4', <tf.Tensor 'G_main_4/G_mapping/Dense4/IdentityN:0' shape=(?, 512) dtype=float32>, [<tf.Variable 'G_mapping_4/Dense4/weight:0' shape=(512, 512) dtype=float32_ref>, <tf.Variable 'G_mapping_4/Dense4/bias:0' shape=(512,) dtype=float32_ref>])\n",
            "8 ('G_mapping/Dense5', <tf.Tensor 'G_main_4/G_mapping/Dense5/IdentityN:0' shape=(?, 512) dtype=float32>, [<tf.Variable 'G_mapping_4/Dense5/weight:0' shape=(512, 512) dtype=float32_ref>, <tf.Variable 'G_mapping_4/Dense5/bias:0' shape=(512,) dtype=float32_ref>])\n",
            "9 ('G_mapping/Dense6', <tf.Tensor 'G_main_4/G_mapping/Dense6/IdentityN:0' shape=(?, 512) dtype=float32>, [<tf.Variable 'G_mapping_4/Dense6/weight:0' shape=(512, 512) dtype=float32_ref>, <tf.Variable 'G_mapping_4/Dense6/bias:0' shape=(512,) dtype=float32_ref>])\n",
            "10 ('G_mapping/Dense7', <tf.Tensor 'G_main_4/G_mapping/Dense7/IdentityN:0' shape=(?, 512) dtype=float32>, [<tf.Variable 'G_mapping_4/Dense7/weight:0' shape=(512, 512) dtype=float32_ref>, <tf.Variable 'G_mapping_4/Dense7/bias:0' shape=(512,) dtype=float32_ref>])\n",
            "11 ('G_mapping/Broadcast', <tf.Tensor 'G_main_4/G_mapping/Broadcast/Tile:0' shape=(?, 18, 512) dtype=float32>, [])\n",
            "12 ('dlatent_avg', <tf.Tensor 'G_main_4/dlatent_avg:0' shape=(512,) dtype=float32_ref>, [])\n",
            "13 ('Truncation/Lerp', <tf.Tensor 'G_main_4/Truncation/Lerp/add:0' shape=(?, 18, 512) dtype=float32>, [])\n",
            "14 ('G_synthesis/4x4/Const', <tf.Tensor 'G_main_4/G_synthesis/4x4/Const/Tile:0' shape=(?, 512, 4, 4) dtype=float32>, [<tf.Variable 'G_synthesis_4/4x4/Const/const:0' shape=(1, 512, 4, 4) dtype=float32_ref>])\n",
            "15 ('G_synthesis/4x4/Conv', <tf.Tensor 'G_main_4/G_synthesis/4x4/Conv/IdentityN_1:0' shape=(?, 512, 4, 4) dtype=float32>, [<tf.Variable 'G_synthesis_4/4x4/Conv/weight:0' shape=(3, 3, 512, 512) dtype=float32_ref>, <tf.Variable 'G_synthesis_4/4x4/Conv/mod_weight:0' shape=(512, 512) dtype=float32_ref>, <tf.Variable 'G_synthesis_4/4x4/Conv/mod_bias:0' shape=(512,) dtype=float32_ref>, <tf.Variable 'G_synthesis_4/4x4/Conv/noise_strength:0' shape=() dtype=float32_ref>, <tf.Variable 'G_synthesis_4/4x4/Conv/bias:0' shape=(512,) dtype=float32_ref>])\n",
            "16 ('G_synthesis/4x4/ToRGB', <tf.Tensor 'G_main_4/G_synthesis/4x4/ToRGB/IdentityN_1:0' shape=(?, 3, 4, 4) dtype=float32>, [<tf.Variable 'G_synthesis_4/4x4/ToRGB/weight:0' shape=(1, 1, 512, 3) dtype=float32_ref>, <tf.Variable 'G_synthesis_4/4x4/ToRGB/mod_weight:0' shape=(512, 512) dtype=float32_ref>, <tf.Variable 'G_synthesis_4/4x4/ToRGB/mod_bias:0' shape=(512,) dtype=float32_ref>, <tf.Variable 'G_synthesis_4/4x4/ToRGB/bias:0' shape=(3,) dtype=float32_ref>])\n",
            "17 ('G_synthesis/8x8/Conv0_up', <tf.Tensor 'G_main_4/G_synthesis/8x8/Conv0_up/IdentityN_2:0' shape=(?, 512, 8, 8) dtype=float32>, [<tf.Variable 'G_synthesis_4/8x8/Conv0_up/weight:0' shape=(3, 3, 512, 512) dtype=float32_ref>, <tf.Variable 'G_synthesis_4/8x8/Conv0_up/mod_weight:0' shape=(512, 512) dtype=float32_ref>, <tf.Variable 'G_synthesis_4/8x8/Conv0_up/mod_bias:0' shape=(512,) dtype=float32_ref>, <tf.Variable 'G_synthesis_4/8x8/Conv0_up/noise_strength:0' shape=() dtype=float32_ref>, <tf.Variable 'G_synthesis_4/8x8/Conv0_up/bias:0' shape=(512,) dtype=float32_ref>])\n",
            "18 ('G_synthesis/8x8/Conv1', <tf.Tensor 'G_main_4/G_synthesis/8x8/Conv1/IdentityN_1:0' shape=(?, 512, 8, 8) dtype=float32>, [<tf.Variable 'G_synthesis_4/8x8/Conv1/weight:0' shape=(3, 3, 512, 512) dtype=float32_ref>, <tf.Variable 'G_synthesis_4/8x8/Conv1/mod_weight:0' shape=(512, 512) dtype=float32_ref>, <tf.Variable 'G_synthesis_4/8x8/Conv1/mod_bias:0' shape=(512,) dtype=float32_ref>, <tf.Variable 'G_synthesis_4/8x8/Conv1/noise_strength:0' shape=() dtype=float32_ref>, <tf.Variable 'G_synthesis_4/8x8/Conv1/bias:0' shape=(512,) dtype=float32_ref>])\n",
            "19 ('G_synthesis/8x8/Upsample', <tf.Tensor 'G_main_4/G_synthesis/8x8/Upsample/Reshape_1:0' shape=(?, 3, 8, 8) dtype=float32>, [])\n",
            "20 ('G_synthesis/8x8/ToRGB', <tf.Tensor 'G_main_4/G_synthesis/8x8/ToRGB/add_1:0' shape=(?, 3, 8, 8) dtype=float32>, [<tf.Variable 'G_synthesis_4/8x8/ToRGB/weight:0' shape=(1, 1, 512, 3) dtype=float32_ref>, <tf.Variable 'G_synthesis_4/8x8/ToRGB/mod_weight:0' shape=(512, 512) dtype=float32_ref>, <tf.Variable 'G_synthesis_4/8x8/ToRGB/mod_bias:0' shape=(512,) dtype=float32_ref>, <tf.Variable 'G_synthesis_4/8x8/ToRGB/bias:0' shape=(3,) dtype=float32_ref>])\n",
            "21 ('G_synthesis/16x16/Conv0_up', <tf.Tensor 'G_main_4/G_synthesis/16x16/Conv0_up/IdentityN_2:0' shape=(?, 512, 16, 16) dtype=float32>, [<tf.Variable 'G_synthesis_4/16x16/Conv0_up/weight:0' shape=(3, 3, 512, 512) dtype=float32_ref>, <tf.Variable 'G_synthesis_4/16x16/Conv0_up/mod_weight:0' shape=(512, 512) dtype=float32_ref>, <tf.Variable 'G_synthesis_4/16x16/Conv0_up/mod_bias:0' shape=(512,) dtype=float32_ref>, <tf.Variable 'G_synthesis_4/16x16/Conv0_up/noise_strength:0' shape=() dtype=float32_ref>, <tf.Variable 'G_synthesis_4/16x16/Conv0_up/bias:0' shape=(512,) dtype=float32_ref>])\n",
            "22 ('G_synthesis/16x16/Conv1', <tf.Tensor 'G_main_4/G_synthesis/16x16/Conv1/IdentityN_1:0' shape=(?, 512, 16, 16) dtype=float32>, [<tf.Variable 'G_synthesis_4/16x16/Conv1/weight:0' shape=(3, 3, 512, 512) dtype=float32_ref>, <tf.Variable 'G_synthesis_4/16x16/Conv1/mod_weight:0' shape=(512, 512) dtype=float32_ref>, <tf.Variable 'G_synthesis_4/16x16/Conv1/mod_bias:0' shape=(512,) dtype=float32_ref>, <tf.Variable 'G_synthesis_4/16x16/Conv1/noise_strength:0' shape=() dtype=float32_ref>, <tf.Variable 'G_synthesis_4/16x16/Conv1/bias:0' shape=(512,) dtype=float32_ref>])\n",
            "23 ('G_synthesis/16x16/Upsample', <tf.Tensor 'G_main_4/G_synthesis/16x16/Upsample/Reshape_1:0' shape=(?, 3, 16, 16) dtype=float32>, [])\n",
            "24 ('G_synthesis/16x16/ToRGB', <tf.Tensor 'G_main_4/G_synthesis/16x16/ToRGB/add_1:0' shape=(?, 3, 16, 16) dtype=float32>, [<tf.Variable 'G_synthesis_4/16x16/ToRGB/weight:0' shape=(1, 1, 512, 3) dtype=float32_ref>, <tf.Variable 'G_synthesis_4/16x16/ToRGB/mod_weight:0' shape=(512, 512) dtype=float32_ref>, <tf.Variable 'G_synthesis_4/16x16/ToRGB/mod_bias:0' shape=(512,) dtype=float32_ref>, <tf.Variable 'G_synthesis_4/16x16/ToRGB/bias:0' shape=(3,) dtype=float32_ref>])\n",
            "25 ('G_synthesis/32x32/Conv0_up', <tf.Tensor 'G_main_4/G_synthesis/32x32/Conv0_up/IdentityN_2:0' shape=(?, 512, 32, 32) dtype=float32>, [<tf.Variable 'G_synthesis_4/32x32/Conv0_up/weight:0' shape=(3, 3, 512, 512) dtype=float32_ref>, <tf.Variable 'G_synthesis_4/32x32/Conv0_up/mod_weight:0' shape=(512, 512) dtype=float32_ref>, <tf.Variable 'G_synthesis_4/32x32/Conv0_up/mod_bias:0' shape=(512,) dtype=float32_ref>, <tf.Variable 'G_synthesis_4/32x32/Conv0_up/noise_strength:0' shape=() dtype=float32_ref>, <tf.Variable 'G_synthesis_4/32x32/Conv0_up/bias:0' shape=(512,) dtype=float32_ref>])\n",
            "26 ('G_synthesis/32x32/Conv1', <tf.Tensor 'G_main_4/G_synthesis/32x32/Conv1/IdentityN_1:0' shape=(?, 512, 32, 32) dtype=float32>, [<tf.Variable 'G_synthesis_4/32x32/Conv1/weight:0' shape=(3, 3, 512, 512) dtype=float32_ref>, <tf.Variable 'G_synthesis_4/32x32/Conv1/mod_weight:0' shape=(512, 512) dtype=float32_ref>, <tf.Variable 'G_synthesis_4/32x32/Conv1/mod_bias:0' shape=(512,) dtype=float32_ref>, <tf.Variable 'G_synthesis_4/32x32/Conv1/noise_strength:0' shape=() dtype=float32_ref>, <tf.Variable 'G_synthesis_4/32x32/Conv1/bias:0' shape=(512,) dtype=float32_ref>])\n",
            "27 ('G_synthesis/32x32/Upsample', <tf.Tensor 'G_main_4/G_synthesis/32x32/Upsample/Reshape_1:0' shape=(?, 3, 32, 32) dtype=float32>, [])\n",
            "28 ('G_synthesis/32x32/ToRGB', <tf.Tensor 'G_main_4/G_synthesis/32x32/ToRGB/add_1:0' shape=(?, 3, 32, 32) dtype=float32>, [<tf.Variable 'G_synthesis_4/32x32/ToRGB/weight:0' shape=(1, 1, 512, 3) dtype=float32_ref>, <tf.Variable 'G_synthesis_4/32x32/ToRGB/mod_weight:0' shape=(512, 512) dtype=float32_ref>, <tf.Variable 'G_synthesis_4/32x32/ToRGB/mod_bias:0' shape=(512,) dtype=float32_ref>, <tf.Variable 'G_synthesis_4/32x32/ToRGB/bias:0' shape=(3,) dtype=float32_ref>])\n",
            "29 ('G_synthesis/64x64/Conv0_up', <tf.Tensor 'G_main_4/G_synthesis/64x64/Conv0_up/IdentityN_2:0' shape=(?, 512, 64, 64) dtype=float32>, [<tf.Variable 'G_synthesis_4/64x64/Conv0_up/weight:0' shape=(3, 3, 512, 512) dtype=float32_ref>, <tf.Variable 'G_synthesis_4/64x64/Conv0_up/mod_weight:0' shape=(512, 512) dtype=float32_ref>, <tf.Variable 'G_synthesis_4/64x64/Conv0_up/mod_bias:0' shape=(512,) dtype=float32_ref>, <tf.Variable 'G_synthesis_4/64x64/Conv0_up/noise_strength:0' shape=() dtype=float32_ref>, <tf.Variable 'G_synthesis_4/64x64/Conv0_up/bias:0' shape=(512,) dtype=float32_ref>])\n",
            "30 ('G_synthesis/64x64/Conv1', <tf.Tensor 'G_main_4/G_synthesis/64x64/Conv1/IdentityN_1:0' shape=(?, 512, 64, 64) dtype=float32>, [<tf.Variable 'G_synthesis_4/64x64/Conv1/weight:0' shape=(3, 3, 512, 512) dtype=float32_ref>, <tf.Variable 'G_synthesis_4/64x64/Conv1/mod_weight:0' shape=(512, 512) dtype=float32_ref>, <tf.Variable 'G_synthesis_4/64x64/Conv1/mod_bias:0' shape=(512,) dtype=float32_ref>, <tf.Variable 'G_synthesis_4/64x64/Conv1/noise_strength:0' shape=() dtype=float32_ref>, <tf.Variable 'G_synthesis_4/64x64/Conv1/bias:0' shape=(512,) dtype=float32_ref>])\n",
            "31 ('G_synthesis/64x64/Upsample', <tf.Tensor 'G_main_4/G_synthesis/64x64/Upsample/Reshape_1:0' shape=(?, 3, 64, 64) dtype=float32>, [])\n",
            "32 ('G_synthesis/64x64/ToRGB', <tf.Tensor 'G_main_4/G_synthesis/64x64/ToRGB/add_1:0' shape=(?, 3, 64, 64) dtype=float32>, [<tf.Variable 'G_synthesis_4/64x64/ToRGB/weight:0' shape=(1, 1, 512, 3) dtype=float32_ref>, <tf.Variable 'G_synthesis_4/64x64/ToRGB/mod_weight:0' shape=(512, 512) dtype=float32_ref>, <tf.Variable 'G_synthesis_4/64x64/ToRGB/mod_bias:0' shape=(512,) dtype=float32_ref>, <tf.Variable 'G_synthesis_4/64x64/ToRGB/bias:0' shape=(3,) dtype=float32_ref>])\n",
            "33 ('G_synthesis/128x128/Conv0_up', <tf.Tensor 'G_main_4/G_synthesis/128x128/Conv0_up/IdentityN_2:0' shape=(?, 256, 128, 128) dtype=float32>, [<tf.Variable 'G_synthesis_4/128x128/Conv0_up/weight:0' shape=(3, 3, 512, 256) dtype=float32_ref>, <tf.Variable 'G_synthesis_4/128x128/Conv0_up/mod_weight:0' shape=(512, 512) dtype=float32_ref>, <tf.Variable 'G_synthesis_4/128x128/Conv0_up/mod_bias:0' shape=(512,) dtype=float32_ref>, <tf.Variable 'G_synthesis_4/128x128/Conv0_up/noise_strength:0' shape=() dtype=float32_ref>, <tf.Variable 'G_synthesis_4/128x128/Conv0_up/bias:0' shape=(256,) dtype=float32_ref>])\n",
            "34 ('G_synthesis/128x128/Conv1', <tf.Tensor 'G_main_4/G_synthesis/128x128/Conv1/IdentityN_1:0' shape=(?, 256, 128, 128) dtype=float32>, [<tf.Variable 'G_synthesis_4/128x128/Conv1/weight:0' shape=(3, 3, 256, 256) dtype=float32_ref>, <tf.Variable 'G_synthesis_4/128x128/Conv1/mod_weight:0' shape=(512, 256) dtype=float32_ref>, <tf.Variable 'G_synthesis_4/128x128/Conv1/mod_bias:0' shape=(256,) dtype=float32_ref>, <tf.Variable 'G_synthesis_4/128x128/Conv1/noise_strength:0' shape=() dtype=float32_ref>, <tf.Variable 'G_synthesis_4/128x128/Conv1/bias:0' shape=(256,) dtype=float32_ref>])\n",
            "35 ('G_synthesis/128x128/Upsample', <tf.Tensor 'G_main_4/G_synthesis/128x128/Upsample/Reshape_1:0' shape=(?, 3, 128, 128) dtype=float32>, [])\n",
            "36 ('G_synthesis/128x128/ToRGB', <tf.Tensor 'G_main_4/G_synthesis/128x128/ToRGB/add_1:0' shape=(?, 3, 128, 128) dtype=float32>, [<tf.Variable 'G_synthesis_4/128x128/ToRGB/weight:0' shape=(1, 1, 256, 3) dtype=float32_ref>, <tf.Variable 'G_synthesis_4/128x128/ToRGB/mod_weight:0' shape=(512, 256) dtype=float32_ref>, <tf.Variable 'G_synthesis_4/128x128/ToRGB/mod_bias:0' shape=(256,) dtype=float32_ref>, <tf.Variable 'G_synthesis_4/128x128/ToRGB/bias:0' shape=(3,) dtype=float32_ref>])\n",
            "37 ('G_synthesis/256x256/Conv0_up', <tf.Tensor 'G_main_4/G_synthesis/256x256/Conv0_up/IdentityN_2:0' shape=(?, 128, 256, 256) dtype=float32>, [<tf.Variable 'G_synthesis_4/256x256/Conv0_up/weight:0' shape=(3, 3, 256, 128) dtype=float32_ref>, <tf.Variable 'G_synthesis_4/256x256/Conv0_up/mod_weight:0' shape=(512, 256) dtype=float32_ref>, <tf.Variable 'G_synthesis_4/256x256/Conv0_up/mod_bias:0' shape=(256,) dtype=float32_ref>, <tf.Variable 'G_synthesis_4/256x256/Conv0_up/noise_strength:0' shape=() dtype=float32_ref>, <tf.Variable 'G_synthesis_4/256x256/Conv0_up/bias:0' shape=(128,) dtype=float32_ref>])\n",
            "38 ('G_synthesis/256x256/Conv1', <tf.Tensor 'G_main_4/G_synthesis/256x256/Conv1/IdentityN_1:0' shape=(?, 128, 256, 256) dtype=float32>, [<tf.Variable 'G_synthesis_4/256x256/Conv1/weight:0' shape=(3, 3, 128, 128) dtype=float32_ref>, <tf.Variable 'G_synthesis_4/256x256/Conv1/mod_weight:0' shape=(512, 128) dtype=float32_ref>, <tf.Variable 'G_synthesis_4/256x256/Conv1/mod_bias:0' shape=(128,) dtype=float32_ref>, <tf.Variable 'G_synthesis_4/256x256/Conv1/noise_strength:0' shape=() dtype=float32_ref>, <tf.Variable 'G_synthesis_4/256x256/Conv1/bias:0' shape=(128,) dtype=float32_ref>])\n",
            "39 ('G_synthesis/256x256/Upsample', <tf.Tensor 'G_main_4/G_synthesis/256x256/Upsample/Reshape_1:0' shape=(?, 3, 256, 256) dtype=float32>, [])\n",
            "40 ('G_synthesis/256x256/ToRGB', <tf.Tensor 'G_main_4/G_synthesis/256x256/ToRGB/add_1:0' shape=(?, 3, 256, 256) dtype=float32>, [<tf.Variable 'G_synthesis_4/256x256/ToRGB/weight:0' shape=(1, 1, 128, 3) dtype=float32_ref>, <tf.Variable 'G_synthesis_4/256x256/ToRGB/mod_weight:0' shape=(512, 128) dtype=float32_ref>, <tf.Variable 'G_synthesis_4/256x256/ToRGB/mod_bias:0' shape=(128,) dtype=float32_ref>, <tf.Variable 'G_synthesis_4/256x256/ToRGB/bias:0' shape=(3,) dtype=float32_ref>])\n",
            "41 ('G_synthesis/512x512/Conv0_up', <tf.Tensor 'G_main_4/G_synthesis/512x512/Conv0_up/IdentityN_2:0' shape=(?, 64, 512, 512) dtype=float32>, [<tf.Variable 'G_synthesis_4/512x512/Conv0_up/weight:0' shape=(3, 3, 128, 64) dtype=float32_ref>, <tf.Variable 'G_synthesis_4/512x512/Conv0_up/mod_weight:0' shape=(512, 128) dtype=float32_ref>, <tf.Variable 'G_synthesis_4/512x512/Conv0_up/mod_bias:0' shape=(128,) dtype=float32_ref>, <tf.Variable 'G_synthesis_4/512x512/Conv0_up/noise_strength:0' shape=() dtype=float32_ref>, <tf.Variable 'G_synthesis_4/512x512/Conv0_up/bias:0' shape=(64,) dtype=float32_ref>])\n",
            "42 ('G_synthesis/512x512/Conv1', <tf.Tensor 'G_main_4/G_synthesis/512x512/Conv1/IdentityN_1:0' shape=(?, 64, 512, 512) dtype=float32>, [<tf.Variable 'G_synthesis_4/512x512/Conv1/weight:0' shape=(3, 3, 64, 64) dtype=float32_ref>, <tf.Variable 'G_synthesis_4/512x512/Conv1/mod_weight:0' shape=(512, 64) dtype=float32_ref>, <tf.Variable 'G_synthesis_4/512x512/Conv1/mod_bias:0' shape=(64,) dtype=float32_ref>, <tf.Variable 'G_synthesis_4/512x512/Conv1/noise_strength:0' shape=() dtype=float32_ref>, <tf.Variable 'G_synthesis_4/512x512/Conv1/bias:0' shape=(64,) dtype=float32_ref>])\n",
            "43 ('G_synthesis/512x512/Upsample', <tf.Tensor 'G_main_4/G_synthesis/512x512/Upsample/Reshape_1:0' shape=(?, 3, 512, 512) dtype=float32>, [])\n",
            "44 ('G_synthesis/512x512/ToRGB', <tf.Tensor 'G_main_4/G_synthesis/512x512/ToRGB/add_1:0' shape=(?, 3, 512, 512) dtype=float32>, [<tf.Variable 'G_synthesis_4/512x512/ToRGB/weight:0' shape=(1, 1, 64, 3) dtype=float32_ref>, <tf.Variable 'G_synthesis_4/512x512/ToRGB/mod_weight:0' shape=(512, 64) dtype=float32_ref>, <tf.Variable 'G_synthesis_4/512x512/ToRGB/mod_bias:0' shape=(64,) dtype=float32_ref>, <tf.Variable 'G_synthesis_4/512x512/ToRGB/bias:0' shape=(3,) dtype=float32_ref>])\n",
            "45 ('G_synthesis/1024x1024/Conv0_up', <tf.Tensor 'G_main_4/G_synthesis/1024x1024/Conv0_up/IdentityN_2:0' shape=(?, 32, 1024, 1024) dtype=float32>, [<tf.Variable 'G_synthesis_4/1024x1024/Conv0_up/weight:0' shape=(3, 3, 64, 32) dtype=float32_ref>, <tf.Variable 'G_synthesis_4/1024x1024/Conv0_up/mod_weight:0' shape=(512, 64) dtype=float32_ref>, <tf.Variable 'G_synthesis_4/1024x1024/Conv0_up/mod_bias:0' shape=(64,) dtype=float32_ref>, <tf.Variable 'G_synthesis_4/1024x1024/Conv0_up/noise_strength:0' shape=() dtype=float32_ref>, <tf.Variable 'G_synthesis_4/1024x1024/Conv0_up/bias:0' shape=(32,) dtype=float32_ref>])\n",
            "46 ('G_synthesis/1024x1024/Conv1', <tf.Tensor 'G_main_4/G_synthesis/1024x1024/Conv1/IdentityN_1:0' shape=(?, 32, 1024, 1024) dtype=float32>, [<tf.Variable 'G_synthesis_4/1024x1024/Conv1/weight:0' shape=(3, 3, 32, 32) dtype=float32_ref>, <tf.Variable 'G_synthesis_4/1024x1024/Conv1/mod_weight:0' shape=(512, 32) dtype=float32_ref>, <tf.Variable 'G_synthesis_4/1024x1024/Conv1/mod_bias:0' shape=(32,) dtype=float32_ref>, <tf.Variable 'G_synthesis_4/1024x1024/Conv1/noise_strength:0' shape=() dtype=float32_ref>, <tf.Variable 'G_synthesis_4/1024x1024/Conv1/bias:0' shape=(32,) dtype=float32_ref>])\n",
            "47 ('G_synthesis/1024x1024/Upsample', <tf.Tensor 'G_main_4/G_synthesis/1024x1024/Upsample/Reshape_1:0' shape=(?, 3, 1024, 1024) dtype=float32>, [])\n",
            "48 ('G_synthesis/1024x1024/ToRGB', <tf.Tensor 'G_main_4/G_synthesis/1024x1024/ToRGB/add_1:0' shape=(?, 3, 1024, 1024) dtype=float32>, [<tf.Variable 'G_synthesis_4/1024x1024/ToRGB/weight:0' shape=(1, 1, 32, 3) dtype=float32_ref>, <tf.Variable 'G_synthesis_4/1024x1024/ToRGB/mod_weight:0' shape=(512, 32) dtype=float32_ref>, <tf.Variable 'G_synthesis_4/1024x1024/ToRGB/mod_bias:0' shape=(32,) dtype=float32_ref>, <tf.Variable 'G_synthesis_4/1024x1024/ToRGB/bias:0' shape=(3,) dtype=float32_ref>])\n"
          ]
        }
      ]
    },
    {
      "cell_type": "code",
      "source": [
        "fused.list_layers[33:49] = "
      ],
      "metadata": {
        "id": "BYjy0CE7Kre2"
      },
      "execution_count": null,
      "outputs": []
    },
    {
      "cell_type": "code",
      "source": [
        ""
      ],
      "metadata": {
        "id": "XKHG8exXJegO"
      },
      "execution_count": null,
      "outputs": []
    }
  ]
}