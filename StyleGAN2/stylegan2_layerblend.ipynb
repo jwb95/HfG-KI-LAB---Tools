{
  "cells": [
    {
      "cell_type": "code",
      "execution_count": 1,
      "metadata": {
        "colab": {
          "base_uri": "https://localhost:8080/"
        },
        "id": "_2kyFmNYGUxe",
        "outputId": "0ffa25bb-af49-4df8-e9cb-58c7c9254b47"
      },
      "outputs": [
        {
          "name": "stdout",
          "output_type": "stream",
          "text": [
            "/content\n",
            "Cloning into 'stylegan2-ada'...\n",
            "remote: Enumerating objects: 361, done.\u001b[K\n",
            "remote: Total 361 (delta 0), reused 0 (delta 0), pack-reused 361\u001b[K\n",
            "Receiving objects: 100% (361/361), 61.57 MiB | 29.23 MiB/s, done.\n",
            "Resolving deltas: 100% (196/196), done.\n",
            "/content/stylegan2-ada\n"
          ]
        }
      ],
      "source": [
        "# Enter content-folder\n",
        "%cd /content/\n",
        "# Clone StyleGAN2-Repo\n",
        "!git clone https://github.com/pbaylies/stylegan2-ada\n",
        "# Enter repo-folder\n",
        "%cd /content/stylegan2-ada\n",
        "# Make output directory\n",
        "!mkdir out"
      ]
    },
    {
      "cell_type": "code",
      "execution_count": 3,
      "metadata": {
        "colab": {
          "base_uri": "https://localhost:8080/"
        },
        "id": "D80RvfDhHO7-",
        "outputId": "27d5b73d-8aae-4de8-8fbd-7d41864ed4a1"
      },
      "outputs": [
        {
          "name": "stdout",
          "output_type": "stream",
          "text": [
            "TensorFlow 1.x selected.\n"
          ]
        }
      ],
      "source": [
        "# Import Tensorflow 1.x\n",
        "%tensorflow_version 1.x\n",
        "import tensorflow as tf"
      ]
    },
    {
      "cell_type": "code",
      "execution_count": 4,
      "metadata": {
        "colab": {
          "base_uri": "https://localhost:8080/"
        },
        "id": "klcmk4tQHVqu",
        "outputId": "6b278617-4570-4aac-b16c-ddc583b39dd2"
      },
      "outputs": [
        {
          "name": "stdout",
          "output_type": "stream",
          "text": [
            "Collecting opensimplex\n",
            "  Downloading opensimplex-0.4.2-py3-none-any.whl (17 kB)\n",
            "Requirement already satisfied: numpy>=1.20 in /usr/local/lib/python3.7/dist-packages (from opensimplex) (1.21.5)\n",
            "Installing collected packages: opensimplex\n",
            "Successfully installed opensimplex-0.4.2\n"
          ]
        }
      ],
      "source": [
        "# Install opensimples, which is a necessary package.\n",
        "!pip install opensimplex"
      ]
    },
    {
      "cell_type": "code",
      "execution_count": null,
      "metadata": {},
      "outputs": [],
      "source": [
        "# If we want to download models from mega, we can install the following package\n",
        "sudo apt-get update\n",
        "sudo apt-get install megatools\n",
        "# then say: !megadl 'URL'\n",
        "# for download from googledrive say: !gdown URL"
      ]
    },
    {
      "cell_type": "code",
      "execution_count": 9,
      "metadata": {
        "colab": {
          "base_uri": "https://localhost:8080/"
        },
        "id": "zlxBtf9rJYCs",
        "outputId": "9aae5922-eaac-4498-c96a-a4da98aec855"
      },
      "outputs": [
        {
          "name": "stdout",
          "output_type": "stream",
          "text": [
            "--2022-03-01 15:40:20--  https://nvlabs-fi-cdn.nvidia.com/stylegan2-ada/pretrained/ffhq.pkl\n",
            "Resolving nvlabs-fi-cdn.nvidia.com (nvlabs-fi-cdn.nvidia.com)... 52.84.159.86, 52.84.159.50, 52.84.159.125, ...\n",
            "Connecting to nvlabs-fi-cdn.nvidia.com (nvlabs-fi-cdn.nvidia.com)|52.84.159.86|:443... connected.\n",
            "HTTP request sent, awaiting response... 200 OK\n",
            "Length: 381646055 (364M) [binary/octet-stream]\n",
            "Saving to: ‘ffhq.pkl.1’\n",
            "\n",
            "ffhq.pkl.1          100%[===================>] 363.97M   184MB/s    in 2.0s    \n",
            "\n",
            "2022-03-01 15:40:23 (184 MB/s) - ‘ffhq.pkl.1’ saved [381646055/381646055]\n",
            "\n"
          ]
        }
      ],
      "source": [
        "# FFHQ\n",
        "!wget https://nvlabs-fi-cdn.nvidia.com/stylegan2-ada/pretrained/ffhq.pkl"
      ]
    },
    {
      "cell_type": "code",
      "execution_count": 7,
      "metadata": {
        "colab": {
          "base_uri": "https://localhost:8080/"
        },
        "id": "DhhcBr4dJZET",
        "outputId": "d82915cc-044d-4218-aad2-2390447933d5"
      },
      "outputs": [
        {
          "name": "stdout",
          "output_type": "stream",
          "text": [
            "--2022-03-01 15:33:54--  https://nvlabs-fi-cdn.nvidia.com/stylegan2-ada/pretrained/metfaces.pkl\n",
            "Resolving nvlabs-fi-cdn.nvidia.com (nvlabs-fi-cdn.nvidia.com)... 52.84.159.125, 52.84.159.86, 52.84.159.50, ...\n",
            "Connecting to nvlabs-fi-cdn.nvidia.com (nvlabs-fi-cdn.nvidia.com)|52.84.159.125|:443... connected.\n",
            "HTTP request sent, awaiting response... 200 OK\n",
            "Length: 381646596 (364M) [binary/octet-stream]\n",
            "Saving to: ‘metfaces.pkl’\n",
            "\n",
            "metfaces.pkl        100%[===================>] 363.97M  24.1MB/s    in 29s     \n",
            "\n",
            "2022-03-01 15:34:24 (12.7 MB/s) - ‘metfaces.pkl’ saved [381646596/381646596]\n",
            "\n"
          ]
        }
      ],
      "source": [
        "# Metfaces\n",
        "!wget https://nvlabs-fi-cdn.nvidia.com/stylegan2-ada/pretrained/metfaces.pkl"
      ]
    },
    {
      "cell_type": "code",
      "execution_count": 4,
      "metadata": {
        "id": "xeQQ8AgjFkIF"
      },
      "outputs": [],
      "source": [
        "# Import Libs\n",
        "import tensorflow as tf\n",
        "import argparse\n",
        "import sys\n",
        "import os\n",
        "import subprocess\n",
        "import pickle\n",
        "import re\n",
        "from projector import Projector\n",
        "import tqdm\n",
        "import imageio\n",
        "import copy\n",
        "\n",
        "import scipy\n",
        "import numpy as np\n",
        "import PIL.Image\n",
        "\n",
        "import dnnlib\n",
        "import dnnlib.tflib as tflib\n",
        "\n",
        "os.environ['PYGAME_HIDE_SUPPORT_PROMPT'] = \"hide\"\n",
        "import cv2\n",
        "import moviepy.editor\n",
        "from opensimplex import OpenSimplex\n",
        "\n",
        "import warnings # mostly numpy warnings for me\n",
        "warnings.filterwarnings('ignore', category=FutureWarning)\n",
        "warnings.filterwarnings('ignore', category=DeprecationWarning)"
      ]
    },
    {
      "cell_type": "code",
      "execution_count": 43,
      "metadata": {
        "id": "Fd-_EEOLOmHv"
      },
      "outputs": [],
      "source": [
        "def create_image_grid(images, grid_size=None):\n",
        "    '''\n",
        "    Args:\n",
        "        images (np.array): images to place on the grid\n",
        "        grid_size (tuple(int, int)): size of grid (grid_w, grid_h)\n",
        "    Returns:\n",
        "        grid (np.array): image grid of size grid_size\n",
        "    '''\n",
        "    # Some sanity check:\n",
        "    assert images.ndim == 3 or images.ndim == 4\n",
        "    num, img_h, img_w = images.shape[0], images.shape[1], images.shape[2]\n",
        "    if grid_size is not None:\n",
        "        grid_w, grid_h = tuple(grid_size)\n",
        "    else:\n",
        "        grid_w = max(int(np.ceil(np.sqrt(num))), 1)\n",
        "        grid_h = max((num - 1) // grid_w + 1, 1)\n",
        "    # Get the grid\n",
        "    grid = np.zeros(\n",
        "        [grid_h * img_h, grid_w * img_w] + list(images.shape[-1:]), dtype=images.dtype\n",
        "    )\n",
        "    for idx in range(num):\n",
        "        x = (idx % grid_w) * img_w\n",
        "        y = (idx // grid_w) * img_h\n",
        "        grid[y : y + img_h, x : x + img_w, ...] = images[idx]\n",
        "    return grid\n",
        "\n",
        "def render_from_zs(Gs, zs, w_space=False, grid=False, class_idx=None, prefix='', outdir='out'):\n",
        "    images = []\n",
        "    Gs_kwargs = {\n",
        "        'output_transform': dict(func=tflib.convert_images_to_uint8, nchw_to_nhwc=True),\n",
        "        'randomize_noise': False\n",
        "    }\n",
        "    label = np.zeros([1] + Gs.input_shapes[1][1:])\n",
        "    if class_idx is not None:\n",
        "        label[:, class_idx] = 1\n",
        "    for i_z, z in enumerate(zs):\n",
        "        print('Generating image for latent code (%d/%d) ...' % (i_z, len(zs)))\n",
        "        if w_space:\n",
        "            image = Gs.components.synthesis.run(z, output_transform=dict(func=tflib.convert_images_to_uint8, nchw_to_nhwc=True))\n",
        "        else:\n",
        "            image = Gs.run(z, label, **Gs_kwargs) # [minibatch, height, width, channel]\n",
        "        images.append(image[0])\n",
        "        PIL.Image.fromarray(image[0], 'RGB').save(f'{outdir}/z{i_z:04d}.png')\n",
        "\n",
        "    # If user wants to save a grid of the generated images\n",
        "    if grid:\n",
        "        print('Generating image grid...')\n",
        "        PIL.Image.fromarray(create_image_grid(np.array(images)), 'RGB').save(f'{outdir}/grid{prefix}.png')"
      ]
    },
    {
      "cell_type": "code",
      "execution_count": 91,
      "metadata": {
        "id": "8nzqbi8tTnhy"
      },
      "outputs": [],
      "source": [
        "# model_a : path to first model\n",
        "# modeL_b : path to second model\n",
        "# Replaces the last num_layers of the model_a by the corresponding layers of model_b\n",
        "\n",
        "def replace_high_layers(model_a, model_b, num_layers=90):\n",
        "    init = tf.initialize_all_variables()\n",
        "    session = tf.InteractiveSession()\n",
        "    session.run(init)\n",
        "\n",
        "    # metfaces laden\n",
        "    tflib.init_tf()\n",
        "    with dnnlib.util.open_url(model_b) as fp:\n",
        "        _, _, met = pickle.load(fp)\n",
        "\n",
        "    # get keys\n",
        "    keys = [key for key in met.vars][-num_layers:]\n",
        "\n",
        "    # ffhq laden\n",
        "    with dnnlib.util.open_url(model_a) as fp:\n",
        "        _, _, ffhq = pickle.load(fp)\n",
        "\n",
        "    # replace\n",
        "    for key in keys:\n",
        "        session.run(ffhq.vars[key].assign(met.vars[key]))\n",
        "\n",
        "    #assign_op = layer.assign(met.vars[keys[0]])\n",
        "    #session.run(assign_op)\n",
        "    return ffhq"
      ]
    },
    {
      "cell_type": "code",
      "execution_count": 97,
      "metadata": {
        "id": "AQLRFa4gWHmx"
      },
      "outputs": [],
      "source": [
        "# model_a : path to first model\n",
        "# model_b : path to second model\n",
        "# Replaces the first num_layers of model_a by the corresponding layers of model_b\n",
        "# note that this is also possible if model_a has a larger resolution than model_b\n",
        "\n",
        "def replace_low_layers(model_a, model_b, num_layers=10):\n",
        "    init = tf.initialize_all_variables()\n",
        "    session = tf.InteractiveSession()\n",
        "    session.run(init)\n",
        "\n",
        "    # FFHQ laden\n",
        "    tflib.init_tf()\n",
        "    with dnnlib.util.open_url(model_a) as fp:\n",
        "        _, _, ffhq = pickle.load(fp)\n",
        "\n",
        "    # get keys\n",
        "    keys = [key for key in ffhq.vars][19:][:num_layers]\n",
        "\n",
        "    # Met laden\n",
        "    with dnnlib.util.open_url(model_b) as fp:\n",
        "        _, _, met = pickle.load(fp)\n",
        "\n",
        "    # replace\n",
        "    for key in keys:\n",
        "        try:\n",
        "            session.run(ffhq.vars[key].assign(met.vars[key]))\n",
        "            print('worked here:', key)\n",
        "        except:\n",
        "            print('failed here: ',key)\n",
        "\n",
        "    #assign_op = layer.assign(met.vars[keys[0]])\n",
        "    #session.run(assign_op)\n",
        "    return ffhq"
      ]
    },
    {
      "cell_type": "code",
      "execution_count": null,
      "metadata": {},
      "outputs": [],
      "source": [
        "fused = replace_high_layers(model_a=\"ffhq.pkl\", model_b=\"metfaces.pkl\", num_layers=90)"
      ]
    },
    {
      "cell_type": "code",
      "execution_count": 96,
      "metadata": {
        "colab": {
          "base_uri": "https://localhost:8080/"
        },
        "id": "eDmWZGeqOf0o",
        "outputId": "7a9f003c-5b8d-4a96-9d85-eb90ba1e5ef2"
      },
      "outputs": [
        {
          "name": "stdout",
          "output_type": "stream",
          "text": [
            "Generating image for latent code (0/12) ...\n",
            "Generating image for latent code (1/12) ...\n",
            "Generating image for latent code (2/12) ...\n",
            "Generating image for latent code (3/12) ...\n",
            "Generating image for latent code (4/12) ...\n",
            "Generating image for latent code (5/12) ...\n",
            "Generating image for latent code (6/12) ...\n",
            "Generating image for latent code (7/12) ...\n",
            "Generating image for latent code (8/12) ...\n",
            "Generating image for latent code (9/12) ...\n",
            "Generating image for latent code (10/12) ...\n",
            "Generating image for latent code (11/12) ...\n",
            "Generating image grid...\n"
          ]
        }
      ],
      "source": [
        "# 12 Zufällige Bilder generieren.\n",
        "render_from_zs(fused, zs, grid=True)"
      ]
    },
    {
      "cell_type": "code",
      "execution_count": null,
      "metadata": {
        "id": "XKHG8exXJegO"
      },
      "outputs": [],
      "source": [
        "fused = replace_low_layers(\"ffhq.pkl\", \"abstract_photo.pkl\", num_layers=10)"
      ]
    }
  ],
  "metadata": {
    "accelerator": "GPU",
    "colab": {
      "collapsed_sections": [],
      "name": "stylegan2_layerblend.ipynb",
      "provenance": []
    },
    "kernelspec": {
      "display_name": "Python 3",
      "name": "python3"
    },
    "language_info": {
      "name": "python"
    }
  },
  "nbformat": 4,
  "nbformat_minor": 0
}
